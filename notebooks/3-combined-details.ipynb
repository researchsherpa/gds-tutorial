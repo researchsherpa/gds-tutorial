{
 "cells": [
  {
   "cell_type": "markdown",
   "id": "8c5d291f-c519-42fe-a5ea-7008ff550069",
   "metadata": {
    "tags": []
   },
   "source": [
    "# Combining Data with Maps\n",
    "\n",
    "This tutorial was developed to demonstrate the use of open government data to address a civic issue.  The specific use case we've focused on is local businesses and economic development in the city of LA.  Summarizing the journey so far:\n",
    "\n",
    "  1. We started by identifying the questions we need to answer.\n",
    "  2. We looked at [curation](1-data-wrangling.ipynb] strategies for different open data sources.\n",
    "  3. Finally we [looked](2-data-fusion.ipynb) how we might combine different data sources.\n",
    "  \n",
    "This part of the tutorial will develop some ideas to put it all together.  We'll create an interactive map using:\n",
    "\n",
    "  1. ipyleaflet map solution\n",
    "  2. Geocoded businesses data, Opportunity Zones, and LA Business Improvement Districts\n",
    "  3. Final product is map with Wilshire BID, OZ's and businesses.\n"
   ]
  },
  {
   "cell_type": "markdown",
   "id": "5d87b8a6-a421-46e0-858c-9fb2d38fbd3e",
   "metadata": {},
   "source": [
    "Before I start we need to set the env up.  I like to do (most) all my imports upfront.  I do it with a start.py in my profile_default.  This accomplishes the same thing.\n",
    "\n",
    "**Note:** This can be a bit slow because it initializes osmnx.  "
   ]
  },
  {
   "cell_type": "code",
   "execution_count": null,
   "id": "825d4e8f-1843-4bad-82a5-420b969c151f",
   "metadata": {},
   "outputs": [],
   "source": [
    "#imports\n",
    "%run start.py"
   ]
  },
  {
   "cell_type": "code",
   "execution_count": null,
   "id": "fbcc78cc-4e72-44ee-a3a6-24df747e5da8",
   "metadata": {},
   "outputs": [],
   "source": [
    "businesses_gdf = gpd.read_parquet('../data/businesses-gdf.parq')\n",
    "oz_zones = gpd.read_parquet('../data/opportunity-zones.parq')\n",
    "bids_gdf = gpd.read_file('../data/Business Improvement Districts.zip')\n",
    "la_city_councils = gpd.read_file('../data/LA_City_Council_Districts_(Adopted_2021).zip')\n",
    "la_boundary_gdf = gpd.read_parquet('../data/la-boundary.parq')"
   ]
  },
  {
   "cell_type": "markdown",
   "id": "4f3e2c1c-155c-49fe-b1b3-47488d604031",
   "metadata": {},
   "source": [
    "# Basic Mapping\n",
    "\n",
    "For this tutorial I am going to focus on ipyleaflet.  If you want to see similar ideas with folium check out [this demonstration](https://github.com/hackforla/lasan).  Both these mapping systems are wrappers on the leaflet.js library.\n",
    "\n",
    "I will go through a sequence of cells showing the various steps.  You will have to bounce back and forth a bit to `see` things.  "
   ]
  },
  {
   "cell_type": "markdown",
   "id": "9eece234-21b4-4b5b-915d-61d840a9754e",
   "metadata": {},
   "source": [
    "First we'll look at a standard way to center the map.  I'll use the la_boundary_gdf to position the map at the center."
   ]
  },
  {
   "cell_type": "code",
   "execution_count": null,
   "id": "1de23473-b624-40e3-8bb8-db38e2188780",
   "metadata": {
    "tags": []
   },
   "outputs": [],
   "source": [
    "center = la_boundary_gdf.iloc[0].geometry.centroid.y, la_boundary_gdf.iloc[0].geometry.centroid.x"
   ]
  },
  {
   "cell_type": "markdown",
   "id": "a8343622-116a-4281-8b00-35772a1c686c",
   "metadata": {},
   "source": [
    "Now I will use the center point to position the map.\n",
    "\n",
    "I'm adding four initial layers as the base maps.  These will be selectable and can be useful for different phases of analysis."
   ]
  },
  {
   "cell_type": "code",
   "execution_count": null,
   "id": "c077f6bf-4e9b-450f-b84d-9fb223dec130",
   "metadata": {},
   "outputs": [],
   "source": [
    "imagery = basemap_to_tiles(basemaps.Esri.WorldImagery)\n",
    "imagery.base = True\n",
    "osm = basemap_to_tiles(basemaps.OpenStreetMap.Mapnik)\n",
    "osm.base = True\n",
    "\n",
    "google_map = TileLayer(\n",
    "    url=\"https://mt1.google.com/vt/lyrs=m&x={x}&y={y}&z={z}\",\n",
    "    attribution=\"Google\",\n",
    "    name=\"Google Maps\",\n",
    ")\n",
    "google_map.base = True\n",
    "\n",
    "google_satellite = TileLayer(\n",
    "    url=\"https://mt1.google.com/vt/lyrs=y&x={x}&y={y}&z={z}\",\n",
    "    attribution=\"Google\",\n",
    "    name=\"Google Satellite\"\n",
    ")\n",
    "google_satellite.base = True\n",
    "\n",
    "map_display = Map(center=center, zoom=10,\n",
    "                  layers=[google_satellite, google_map, imagery, osm],\n",
    "                  layout=Layout(height=\"900px\"),\n",
    "                  scroll_wheel_zoom=True)\n",
    "\n",
    "map_display.add_control(LayersControl())\n",
    "\n",
    "map_display.add_control(FullScreenControl())\n",
    "\n",
    "map_display"
   ]
  },
  {
   "cell_type": "markdown",
   "id": "7d095c70-561d-4820-98b1-841c339f6164",
   "metadata": {},
   "source": [
    "There is now a basic map widget.  You can select one of the four map tiles for background.  I have defaulted to OSM."
   ]
  },
  {
   "cell_type": "markdown",
   "id": "ffbb6517-3cb5-476a-855b-a2b68a609a1f",
   "metadata": {},
   "source": [
    "## Overlays\n",
    "\n",
    "We need to add the various features of the analysis as overlays on the map.  We'll add our layers to the map via LayersControl.\n",
    "\n",
    "The specific layers/controls we'll look at are:\n",
    "\n",
    "  1. LA boundary\n",
    "  2. BIDs as geodataframe\n",
    "  3. BIDs as geojson\n",
    "  4. Overlay popup"
   ]
  },
  {
   "cell_type": "markdown",
   "id": "a9ab098a-b97c-4be6-8ff7-1c251ff61258",
   "metadata": {},
   "source": [
    "LA Boundary:"
   ]
  },
  {
   "cell_type": "code",
   "execution_count": null,
   "id": "ce8bebc6-1c51-4568-b151-75254d083918",
   "metadata": {},
   "outputs": [],
   "source": [
    "la_boundary = GeoData(geo_dataframe = la_boundary_gdf,\n",
    "                   style={'color': 'black', 'fillColor': '#3366cc', 'opacity':0.05, 'weight':1.9, 'dashArray':'2', 'fillOpacity':0.6},\n",
    "                   hover_style={'fillColor': 'red' , 'fillOpacity': 0.2},\n",
    "                   name = 'LA Boundary')\n",
    "\n",
    "map_display += la_boundary"
   ]
  },
  {
   "cell_type": "markdown",
   "id": "11c9cd14-3670-44ce-a063-222733377b88",
   "metadata": {},
   "source": [
    "Go back to the map.\n",
    "\n",
    "Next we'll add bids_gdf using the GeoData class from ipyleaflet.  It is straight forward, but has some limitations."
   ]
  },
  {
   "cell_type": "code",
   "execution_count": null,
   "id": "382b9405-6d82-4957-bc4b-477c82a543a2",
   "metadata": {},
   "outputs": [],
   "source": [
    "bids = GeoData(geo_dataframe = bids_gdf,\n",
    "                   style={'color': 'black', 'fillColor': '#3366cc', 'opacity':0.05, 'weight':1.9, 'dashArray':'2', 'fillOpacity':0.6},\n",
    "                   hover_style={'fillColor': 'red' , 'fillOpacity': 0.2},\n",
    "                   name = 'BIDs gdf')\n",
    "\n",
    "map_display += bids"
   ]
  },
  {
   "cell_type": "markdown",
   "id": "56500249-9be9-47a7-80c3-8e2cc09900d8",
   "metadata": {},
   "source": [
    "Go back to the map again.  You can use the overlays control to select which are displayed.\n",
    "\n",
    "Now I want to demonstrate how to use geojson for the layer overlay.  You will see there is a bit more control over how the layers are displayed.  This control is the one used for the choropleth map in ipyleaflet.  "
   ]
  },
  {
   "cell_type": "code",
   "execution_count": null,
   "id": "d29beaa5-c45a-450e-a4e1-6b36d1fac155",
   "metadata": {},
   "outputs": [],
   "source": [
    "import json\n",
    "import random\n",
    "bids_geojson = bids_gdf.to_json()"
   ]
  },
  {
   "cell_type": "markdown",
   "id": "412db836-98af-4123-bb05-76f12951e5d8",
   "metadata": {},
   "source": [
    "Adding this simple function to colorize polygons in the geojson map features.\n",
    "\n",
    "**Note:** This is one way that `code development` can get messy in the jlab development mindset!"
   ]
  },
  {
   "cell_type": "code",
   "execution_count": null,
   "id": "6b503253-faf4-4448-9d9b-44fc9525b95c",
   "metadata": {},
   "outputs": [],
   "source": [
    "def random_color(feature):\n",
    "    return {\n",
    "        'color': 'black',\n",
    "        'fillColor': random.choice(['red', 'yellow', 'green', 'orange', 'purple', 'blue']),\n",
    "    }"
   ]
  },
  {
   "cell_type": "code",
   "execution_count": null,
   "id": "6c7d6ca3-380b-4f2e-a1c0-d6b58be701ff",
   "metadata": {},
   "outputs": [],
   "source": [
    "#def random_color(feature):\n",
    "#    return {\n",
    "#        'color': 'black',\n",
    "#        'fillColor': random.choice(['red', 'yellow', 'green', 'orange', 'purple', 'blue']),\n",
    "#    }\n",
    "\n",
    "geo_json = GeoJSON(\n",
    "    data=json.loads(bids_geojson),\n",
    "    style={\n",
    "        'opacity': 1, 'dashArray': '9', 'fillOpacity': 0.5, 'weight': 1\n",
    "    },\n",
    "    hover_style={\n",
    "        'color': 'white', 'dashArray': '0', 'fillOpacity': 0.8\n",
    "    },\n",
    "    style_callback=random_color,\n",
    "    name='BIDs geojson'\n",
    ")\n",
    "\n",
    "map_display.add_layer(geo_json)"
   ]
  },
  {
   "cell_type": "markdown",
   "id": "59f915a3-7236-4956-a255-00083f1982dc",
   "metadata": {},
   "source": [
    "Once again, go back to the map.  Turn off the LA boundary and Bids gdf to just see this last overlay.  It looks better because it is colored and you see the boundaries.  You can do a similar stroke on the boundaries with BIDs gdf but adding color to the polygons is a bit more complicated.  I am going to leave that alone."
   ]
  },
  {
   "cell_type": "markdown",
   "id": "e64888d7-540a-49ba-babd-840e0a1a95fd",
   "metadata": {},
   "source": [
    "## Information popup\n",
    "\n",
    "One limitation of ipyleaflet is lack of a tooltip type of control to show information about features below the mouse.  One common way to accomplish this is by adding an HTML widget and the appropriate callback to display the content.\n",
    "\n",
    "I want to declutter the map so I'll remove a couple of layers before adding the HTML control."
   ]
  },
  {
   "cell_type": "code",
   "execution_count": null,
   "id": "58b36967-5b52-4c98-8fb7-a09fb8d95d7e",
   "metadata": {},
   "outputs": [],
   "source": [
    "map_display.remove_layer(la_boundary)\n",
    "map_display.remove_layer(bids)"
   ]
  },
  {
   "cell_type": "markdown",
   "id": "828aa87a-2a36-41a0-a074-11d06bc28018",
   "metadata": {},
   "source": [
    "You can see this control is quite straight forward once you know which column you want to display.  The BID dataset if very simple so we'll just display the prog_name attribute."
   ]
  },
  {
   "cell_type": "code",
   "execution_count": null,
   "id": "7e4b9060-469f-4ade-8a6e-a226d0835168",
   "metadata": {},
   "outputs": [],
   "source": [
    "bid_html = HTML('''Hover over a district''')\n",
    "bid_html.layout.margin = '0px 20px 20px 20 px'\n",
    "bid_control = WidgetControl(widget=bid_html, position='bottomright')\n",
    "\n",
    "def update_bid_html(feature, **kwargs):\n",
    "    bid_html.value = f\"<b>{feature['properties']['prog_name']}\"\n",
    "    \n",
    "map_display.add_control(bid_control)  # does += work for this?\n",
    "\n",
    "geo_json.on_hover(update_bid_html)"
   ]
  },
  {
   "cell_type": "markdown",
   "id": "5abd4278-8701-4c83-abad-b4dfd969e484",
   "metadata": {},
   "source": [
    "Check out the map again.  You should see the HTML control on the bottom right of the display.  It will show the BID name as you move the mouse."
   ]
  },
  {
   "cell_type": "markdown",
   "id": "845be1bd-9819-4374-b795-19de223ea758",
   "metadata": {},
   "source": [
    "Before I move on, let's look at one of the [newer mapping](https://leafmap.org/) packages in the python ecosystem.\n",
    "\n",
    "Interesting eh?"
   ]
  },
  {
   "cell_type": "markdown",
   "id": "53fd3e6a-0386-43eb-8433-81380b2db18b",
   "metadata": {},
   "source": [
    "## leafmap"
   ]
  },
  {
   "cell_type": "code",
   "execution_count": null,
   "id": "0c091113-ed09-46e4-a0ad-4440239c48c5",
   "metadata": {},
   "outputs": [],
   "source": [
    "import leafmap"
   ]
  },
  {
   "cell_type": "code",
   "execution_count": null,
   "id": "43875a68-eeaf-4c90-a62d-3969e5ef2401",
   "metadata": {},
   "outputs": [],
   "source": [
    "m = leafmap.Map()\n",
    "m.add_gdf(bids_gdf, layer_name=\"LA BIDs\", fill_colors=[\"red\", \"green\", \"blue\"])\n",
    "m"
   ]
  },
  {
   "cell_type": "markdown",
   "id": "68f5a6cd-32d1-4c58-ae0a-afbc4ccb19f1",
   "metadata": {},
   "source": [
    "Interesting for sure.  This package warrents further investigation."
   ]
  },
  {
   "cell_type": "markdown",
   "id": "87048190-bbbe-450c-ab60-ed3452695a90",
   "metadata": {},
   "source": [
    "# BID analysis\n",
    "\n",
    "Next we'll look at businesses and BIDs.  There are lot's of businesses, and that is hard to map with browswer-based maps.  I will show the basics, but focus on one BID in particular - Wilshire Center."
   ]
  },
  {
   "cell_type": "markdown",
   "id": "49961584-d8fb-4751-ba1d-1569b2944fad",
   "metadata": {},
   "source": [
    "As usual, since I want to do some analysis we'll get to a common crs.\n",
    "\n",
    "**Note:** This crs worked in the previous mapping section but we'll change for operations."
   ]
  },
  {
   "cell_type": "code",
   "execution_count": null,
   "id": "5bc1bf66-e601-4c2d-ade0-9e9ff28c4880",
   "metadata": {},
   "outputs": [],
   "source": [
    "#bids_gdf.crs"
   ]
  },
  {
   "cell_type": "markdown",
   "id": "2750534a-7272-4ea0-b487-27826c156e9a",
   "metadata": {},
   "source": [
    "## Wilshire BID"
   ]
  },
  {
   "cell_type": "code",
   "execution_count": null,
   "id": "2acf3b37-4bf9-472a-b64d-e30270f47850",
   "metadata": {},
   "outputs": [],
   "source": [
    "bids_gdf.to_crs(\"epsg:4326\", inplace=True)"
   ]
  },
  {
   "cell_type": "markdown",
   "id": "383490e6-3edf-4e66-a62f-0eac10d50276",
   "metadata": {},
   "source": [
    "Next we'll create a gdf of length one for the Wilshire BID."
   ]
  },
  {
   "cell_type": "code",
   "execution_count": null,
   "id": "9cf67294-8ca8-453e-bb03-51738258d8be",
   "metadata": {},
   "outputs": [],
   "source": [
    "wilshire_gdf = bids_gdf.query(f\"prog_name == 'WILSHIRE CENTER'\").reset_index().drop(columns=['index'])"
   ]
  },
  {
   "cell_type": "code",
   "execution_count": null,
   "id": "bd67a255-fb2d-49e4-8197-4041a0d543ef",
   "metadata": {},
   "outputs": [],
   "source": [
    "#wilshire_gdf"
   ]
  },
  {
   "cell_type": "markdown",
   "id": "396e2b31-3bb6-489e-8bb9-430c67cd8f89",
   "metadata": {},
   "source": [
    "Join the Opportunity Zone data with the Wilshire BID to get the OZ's in Wilshire."
   ]
  },
  {
   "cell_type": "code",
   "execution_count": null,
   "id": "ef390c13-7209-4a9f-99ae-785b28580bc6",
   "metadata": {},
   "outputs": [],
   "source": [
    "wilshire_oz_intersects_gdf = wilshire_gdf.overlay(oz_zones, how='intersection')#.drop(columns=['index'])"
   ]
  },
  {
   "cell_type": "markdown",
   "id": "da5e175d-8b12-441a-9972-0a355385a1fe",
   "metadata": {},
   "source": [
    "Let's use the built in map to look at the tracts."
   ]
  },
  {
   "cell_type": "code",
   "execution_count": null,
   "id": "50b59f5d-c4f1-4f78-8358-02e180a3f0cb",
   "metadata": {},
   "outputs": [],
   "source": [
    "wilshire_oz_intersects_gdf.explore(\n",
    "    column=\"TRACTCE\", \n",
    "     tooltip=[\"TRACTCE\",\"prog_name\"], \n",
    "     popup=True, \n",
    "     tiles=\"CartoDB positron\", \n",
    "     cmap=\"Set1\", \n",
    "     style_kwds=dict(color=\"black\") \n",
    "    )"
   ]
  },
  {
   "cell_type": "markdown",
   "id": "ca324564-9941-45f7-97b5-d88a71c734fd",
   "metadata": {},
   "source": [
    "Visual inspection shows 9 polygons. "
   ]
  },
  {
   "cell_type": "code",
   "execution_count": null,
   "id": "372edf3d-adc2-4f9e-b7bc-a0e655994df3",
   "metadata": {},
   "outputs": [],
   "source": [
    "len(wilshire_oz_intersects_gdf)"
   ]
  },
  {
   "cell_type": "markdown",
   "id": "b0771e35-5741-45a4-872d-1e11e779223d",
   "metadata": {},
   "source": [
    "At first glance 13 seemed a bit weird to me.  Some of the [census tracts](https://www.caliper.com/glossary/what-is-a-tract.htm) are ..., well interesting.  That is for another day."
   ]
  },
  {
   "cell_type": "markdown",
   "id": "98d355e8-2038-4b3d-bed8-036ae702aa6c",
   "metadata": {},
   "source": [
    "Following along with my static analysis I want to see these two feature(s) side-by-side.  I would like to understand the percentage of this BID that is in a OZ."
   ]
  },
  {
   "cell_type": "code",
   "execution_count": null,
   "id": "f344b6d0-6779-485d-8695-a31157c296fc",
   "metadata": {},
   "outputs": [],
   "source": [
    "count_output = Output(layout={'border': '1px solid black',\n",
    "                            'width': '50%'})\n",
    "\n",
    "density_output = Output(layout={'border': '1px solid black',\n",
    "                            'width': '50%'})\n",
    "\n",
    "with count_output:\n",
    "    display(wilshire_oz_intersects_gdf.explore())\n",
    "\n",
    "with density_output:\n",
    "    display(wilshire_gdf.explore())\n",
    "\n",
    "HBox([count_output, density_output])"
   ]
  },
  {
   "cell_type": "markdown",
   "id": "b1f57109-02b4-4066-98b9-1919a034684e",
   "metadata": {},
   "source": [
    "Interesting.  My first question is what percentage of the BID is \"covered\" by the OZ?\n",
    "\n",
    "I need to compute areas for these geodataframes and then get the percentage.\n",
    "\n",
    "This leads to another crs adventure.  First we can look at [planar](https://www.conservation.ca.gov/cgs/Pages/Program-RGMP/california-state-plane-coordinate-system.aspx) as a guide to get to a crs.  I selected this [crs](https://epsg.io/2229)."
   ]
  },
  {
   "cell_type": "code",
   "execution_count": null,
   "id": "c0d832b4-cbfb-41ea-9859-633d00be166e",
   "metadata": {},
   "outputs": [],
   "source": [
    "#wilshire_oz_intersects_gdf.crs"
   ]
  },
  {
   "cell_type": "code",
   "execution_count": null,
   "id": "9a584238-1cde-45bc-96ba-a5fcfb29bf52",
   "metadata": {},
   "outputs": [],
   "source": [
    "#wilshire_gdf.crs"
   ]
  },
  {
   "cell_type": "code",
   "execution_count": null,
   "id": "12ace8bd-171a-41e8-9508-eea91bb5102b",
   "metadata": {},
   "outputs": [],
   "source": [
    "wilshire_oz_intersects_gdf['area'] = wilshire_oz_intersects_gdf.to_crs(\"epsg:2229\").area"
   ]
  },
  {
   "cell_type": "code",
   "execution_count": null,
   "id": "4453c4e2-2762-470d-91ef-7c3c0e3149e5",
   "metadata": {},
   "outputs": [],
   "source": [
    "oz_area = wilshire_oz_intersects_gdf['area'].sum() \n",
    "bid_area = wilshire_gdf.to_crs(\"epsg:2229\").area.iloc[0]"
   ]
  },
  {
   "cell_type": "code",
   "execution_count": null,
   "id": "073dcabb-8afd-441a-8ef3-96c328d207a6",
   "metadata": {},
   "outputs": [],
   "source": [
    "round((oz_area / bid_area), 2)"
   ]
  },
  {
   "cell_type": "markdown",
   "id": "0ef47455-40f8-45fe-8b51-718c50b9408a",
   "metadata": {},
   "source": [
    "So 57% of the BID is also an OZ.  Visual inspections seems ok?"
   ]
  },
  {
   "cell_type": "markdown",
   "id": "425d1d86-c0f0-4aaa-aa41-6065536108b2",
   "metadata": {},
   "source": [
    "## Wilshire ipyleaflet map"
   ]
  },
  {
   "cell_type": "markdown",
   "id": "ec235b24-ab29-45a8-a17f-d1031cf6207c",
   "metadata": {},
   "source": [
    "Now let's get back to the leaflet map to start digging in a bit more.\n",
    "\n",
    "Clean up map_display first."
   ]
  },
  {
   "cell_type": "code",
   "execution_count": null,
   "id": "c1c60e96-11df-4caa-b18c-bc215bfaebb0",
   "metadata": {},
   "outputs": [],
   "source": [
    "map_display.remove_layer(geo_json)\n",
    "map_display.remove_control(bid_control)"
   ]
  },
  {
   "cell_type": "markdown",
   "id": "9d5622b2-85d3-4162-81ef-6ae193a4a931",
   "metadata": {},
   "source": [
    "**Note:** Exercise for the user - At this point, the map output cell is `way up there`.  If you get tired of bouncing back and forth during this dev phase you can create a new view for output and move the cell off to this side.  Try a right mouse click on the map_display output cell."
   ]
  },
  {
   "cell_type": "markdown",
   "id": "cba757dd-ab28-4931-bceb-9eff192364b8",
   "metadata": {},
   "source": [
    "Using the same workflow to build two overlays for this map."
   ]
  },
  {
   "cell_type": "code",
   "execution_count": null,
   "id": "3b624ba1-e16e-4a0f-bf40-4e33c784d279",
   "metadata": {},
   "outputs": [],
   "source": [
    "wilshire_boundary = GeoData(geo_dataframe = wilshire_gdf,\n",
    "                   style={'color': 'black', 'fillColor': '#3366cc', 'opacity':0.05, 'weight':1.9, 'dashArray':'2', 'fillOpacity':0.6},\n",
    "                   hover_style={'fillColor': 'red' , 'fillOpacity': 0.2},\n",
    "                   name = 'Wilshire Boundary')\n",
    "\n",
    "map_display += wilshire_boundary"
   ]
  },
  {
   "cell_type": "code",
   "execution_count": null,
   "id": "a98beaa2-121e-46e3-a253-a9d3ca706e79",
   "metadata": {},
   "outputs": [],
   "source": [
    "#def random_color(feature):\n",
    "#    return {\n",
    "#        'color': 'black',\n",
    "#        'fillColor': random.choice(['red', 'yellow', 'green', 'orange']),\n",
    "#    }\n",
    "\n",
    "oz_json = GeoJSON(\n",
    "    data=json.loads(wilshire_oz_intersects_gdf.to_json()),\n",
    "    style={\n",
    "        'opacity': 1, 'dashArray': '9', 'fillOpacity': 0.5, 'weight': 1\n",
    "    },\n",
    "    hover_style={\n",
    "        'color': 'white', 'dashArray': '0', 'fillOpacity': 0.8\n",
    "    },\n",
    "    style_callback=random_color,\n",
    "    name='OZs geojson'\n",
    ")\n",
    "\n",
    "map_display.add_layer(oz_json)"
   ]
  },
  {
   "cell_type": "markdown",
   "id": "ba1c7a72-0052-4b66-88c7-bdfb34e20ae1",
   "metadata": {},
   "source": [
    "For the on_hover what columns do we want to display?"
   ]
  },
  {
   "cell_type": "code",
   "execution_count": null,
   "id": "531f7707-0b20-4e96-a362-0e88b625f904",
   "metadata": {},
   "outputs": [],
   "source": [
    "wilshire_oz_intersects_gdf.columns"
   ]
  },
  {
   "cell_type": "markdown",
   "id": "5217f8e8-597c-4832-8869-404ecbd69191",
   "metadata": {},
   "source": [
    "Since we're interested in OZ's (census tracts), let's look at TRACTCE and GEOID.  GEOID is very important when dealing with census (and other gov dataset for that matter)."
   ]
  },
  {
   "cell_type": "code",
   "execution_count": null,
   "id": "fd603d73-3355-4505-931a-49b8986fe6a5",
   "metadata": {},
   "outputs": [],
   "source": [
    "oz_html = HTML('''Hover over OZ''')\n",
    "oz_html.layout.margin = '0px 20px 20px 20 px'\n",
    "oz_control = WidgetControl(widget=oz_html, position='bottomright')\n",
    "\n",
    "def update_oz_html(feature, **kwargs):\n",
    "    oz_html.value = f\"<b>Census Tract:{feature['properties']['TRACTCE']}\\n<br><b>GEOID: {feature['properties']['GEOID']}\"\n",
    "    \n",
    "map_display.add_control(oz_control)  # does += work for this?\n",
    "\n",
    "oz_json.on_hover(update_oz_html)"
   ]
  },
  {
   "cell_type": "markdown",
   "id": "612ee069-bfdc-4b5d-96a5-6ff8e1bd1404",
   "metadata": {},
   "source": [
    "Finally we can center the map on the Wilshire BID and zoom it a bit."
   ]
  },
  {
   "cell_type": "code",
   "execution_count": null,
   "id": "fa6d16da-f84f-452f-89ef-e9533e79bafa",
   "metadata": {},
   "outputs": [],
   "source": [
    "map_display.center = wilshire_gdf.iloc[0].geometry.centroid.y, wilshire_gdf.iloc[0].geometry.centroid.x\n",
    "map_display.zoom = 15"
   ]
  },
  {
   "cell_type": "markdown",
   "id": "0b86a1ce-18da-42be-abf0-779b3081eeea",
   "metadata": {},
   "source": [
    "So we now have the Wilshire BID with the Opportunity Zones basemap (see the output cell for 3).  "
   ]
  },
  {
   "cell_type": "markdown",
   "id": "eb687945-724d-4b56-8b88-20a3b045573b",
   "metadata": {},
   "source": [
    "# Wilshire Businesses\n",
    "\n",
    "The final step is to add the businesses in the Wilshire BID to our map.\n",
    "\n",
    "To accomplish this we'll:\n",
    "\n",
    "   1. Use the wilshire poly to select businesses gdf\n",
    "   2. See which NAICS codes are in the district\n",
    "   3. Build a color map for the markers\n",
    "   4. Use the color map and the gdf to create the markers\n",
    "   5. Add the clustered markers and the markers to the map"
   ]
  },
  {
   "cell_type": "markdown",
   "id": "4da41a9f-21fb-43a6-85c4-9e68baa2f537",
   "metadata": {},
   "source": [
    "## Businesses in Wilshire\n",
    "\n",
    "Build a geodataframe with the businesses in the Wilshire BID."
   ]
  },
  {
   "cell_type": "code",
   "execution_count": null,
   "id": "b8c811fd-0948-460b-a792-5cb43a50c385",
   "metadata": {},
   "outputs": [],
   "source": [
    "wilshire_businesses_gdf = businesses_gdf.sjoin(wilshire_gdf, how='inner', predicate='within')"
   ]
  },
  {
   "cell_type": "code",
   "execution_count": null,
   "id": "cc243539-2239-4481-88d1-7404af8f16a3",
   "metadata": {},
   "outputs": [],
   "source": [
    "len(wilshire_businesses_gdf)"
   ]
  },
  {
   "cell_type": "markdown",
   "id": "2512ba39-e736-4f37-9359-439c8edc8087",
   "metadata": {},
   "source": [
    "This is a reasonable number for a browser-based map."
   ]
  },
  {
   "cell_type": "markdown",
   "id": "8991141f-2760-44c9-94a6-70b3e0e6d8fe",
   "metadata": {},
   "source": [
    "## NAICS analysis\n",
    "\n",
    "Next I will filter on valid NAICS codes.  This is just easier but not really necessary."
   ]
  },
  {
   "cell_type": "code",
   "execution_count": null,
   "id": "7894fa17-89b1-48ac-8661-577366c03a79",
   "metadata": {},
   "outputs": [],
   "source": [
    "#wilshire_businesses_gdf.columns"
   ]
  },
  {
   "cell_type": "code",
   "execution_count": null,
   "id": "d4d7e432-3f87-430b-b784-d5de8687c7d7",
   "metadata": {},
   "outputs": [],
   "source": [
    "wilshire_businesses_gdf.sector_desc.value_counts()"
   ]
  },
  {
   "cell_type": "markdown",
   "id": "d14f8bb1-4583-405e-8b63-9af35f88eebb",
   "metadata": {},
   "source": [
    "So the sector codes I want to remove:"
   ]
  },
  {
   "cell_type": "code",
   "execution_count": null,
   "id": "774d7696-0c20-4d4a-a1dc-7edd8322d8ec",
   "metadata": {},
   "outputs": [],
   "source": [
    "bad_naics_codes = ['na', '99', '88']"
   ]
  },
  {
   "cell_type": "code",
   "execution_count": null,
   "id": "1f142cb7-7ad9-4b07-915e-46a51fb63a78",
   "metadata": {},
   "outputs": [],
   "source": [
    "wilshire_biz_with_naics_gdf = wilshire_businesses_gdf.query(f\"sector not in @bad_naics_codes\").reset_index().drop(columns=['index', 'level_0'])"
   ]
  },
  {
   "cell_type": "code",
   "execution_count": null,
   "id": "ac846f2b-7894-4d15-a55a-9700aada2ca3",
   "metadata": {},
   "outputs": [],
   "source": [
    "len(wilshire_biz_with_naics_gdf)"
   ]
  },
  {
   "cell_type": "markdown",
   "id": "3629b87b-ff9b-4e69-ba06-54997c85f141",
   "metadata": {},
   "source": [
    "## Marker Color Map"
   ]
  },
  {
   "cell_type": "code",
   "execution_count": null,
   "id": "81a1b8a8-0ef9-436b-b5bc-0cafcc144b3d",
   "metadata": {},
   "outputs": [],
   "source": [
    "naics_codes = wilshire_biz_with_naics_gdf.sector.value_counts().keys().to_list()"
   ]
  },
  {
   "cell_type": "markdown",
   "id": "341a4a2a-cff4-4bbf-9ddd-a5736e58b878",
   "metadata": {},
   "source": [
    "**Note:** Serious hack ahead!  I need [colors](https://stackoverflow.com/questions/1168260/algorithm-for-generating-unique-colors) for the map markers.  Found this list to use.  Ugh!"
   ]
  },
  {
   "cell_type": "code",
   "execution_count": null,
   "id": "42c10117-bbd1-46b5-9610-aa8db28aeaf0",
   "metadata": {
    "tags": []
   },
   "outputs": [],
   "source": [
    "colors = ['#FFA6FE',\n",
    "'#FFDB66',\n",
    "'#006401',\n",
    "'#010067',\n",
    "'#95003A',\n",
    "'#007DB5',\n",
    "'#FF00F6',\n",
    "'#FFEEE8',\n",
    "'#774D00',\n",
    "'#90FB92',\n",
    "'#0076FF',\n",
    "'#D5FF00',\n",
    "'#FF937E',\n",
    "'#6A826C',\n",
    "'#FF029D',\n",
    "'#FE8900',\n",
    "'#7A4782',\n",
    "'#7E2DD2',\n",
    "'#85A900',\n",
    "'#FF0056',\n",
    "'#A42400',\n",
    "'#00AE7E',\n",
    "'#683D3B',\n",
    "'#BDC6FF',\n",
    "'#263400',\n",
    "'#BDD393',\n",
    "'#00B917',\n",
    "'#9E008E',\n",
    "'#001544',\n",
    "'#C28C9F',\n",
    "'#FF74A3',\n",
    "'#01D0FF',\n",
    "'#004754',\n",
    "'#E56FFE',\n",
    "'#788231',\n",
    "'#0E4CA1',\n",
    "'#91D0CB',\n",
    "'#BE9970',\n",
    "'#968AE8',\n",
    "'#BB8800',\n",
    "'#43002C',\n",
    "'#DEFF74',\n",
    "'#00FFC6',\n",
    "'#FFE502',\n",
    "'#620E00',\n",
    "'#008F9C',\n",
    "'#98FF52',\n",
    "'#7544B1']"
   ]
  },
  {
   "cell_type": "code",
   "execution_count": null,
   "id": "b06598b8-db0a-4452-b37b-3e37534cbf68",
   "metadata": {},
   "outputs": [],
   "source": [
    "print(f\"Number of colors: {len(colors)}\")\n",
    "print(f\"Number of colors I need: {len(naics_codes)}\")"
   ]
  },
  {
   "cell_type": "markdown",
   "id": "39b64111-4056-4306-b418-5b07f3dd2a5c",
   "metadata": {},
   "source": [
    "I will combine these two lists for a color map lookup.j"
   ]
  },
  {
   "cell_type": "code",
   "execution_count": null,
   "id": "487a32db-c705-4a2e-8f93-d5554a5d7277",
   "metadata": {},
   "outputs": [],
   "source": [
    "a_cmap = colors[5:26]"
   ]
  },
  {
   "cell_type": "code",
   "execution_count": null,
   "id": "e423271b-958f-4325-9ed4-cdebf6bd9417",
   "metadata": {},
   "outputs": [],
   "source": [
    "cmap = dict(zip(naics_codes, a_cmap))"
   ]
  },
  {
   "cell_type": "code",
   "execution_count": null,
   "id": "a5c4def5-4d06-453f-b46a-156c88f4d810",
   "metadata": {},
   "outputs": [],
   "source": [
    "cmap"
   ]
  },
  {
   "cell_type": "markdown",
   "id": "67e66a62-eaf3-40cb-bdf9-a64313365cce",
   "metadata": {},
   "source": [
    "We're getting close to the end!"
   ]
  },
  {
   "cell_type": "markdown",
   "id": "348f04b5-1cf8-48c4-b60c-5fba3474daee",
   "metadata": {},
   "source": [
    "## Markers\n",
    "\n",
    "What do we want to show when we select a marker?  Here are the possiblities:"
   ]
  },
  {
   "cell_type": "code",
   "execution_count": null,
   "id": "c0b6753b-95d2-43c6-a90b-e2989a3da3c0",
   "metadata": {},
   "outputs": [],
   "source": [
    "wilshire_biz_with_naics_gdf.columns"
   ]
  },
  {
   "cell_type": "markdown",
   "id": "664d3cea-ec86-4eda-aeaa-b856a75ca10f",
   "metadata": {},
   "source": [
    "There are some similarities between `PRIMARY NAICS DESCRIPTION` (from the dataset) and `sector_desc` (added in preproccessing).  I'll use the later."
   ]
  },
  {
   "cell_type": "code",
   "execution_count": null,
   "id": "84a3d9d7-366f-4577-bc02-3ba356978455",
   "metadata": {},
   "outputs": [],
   "source": [
    "markers = list()\n",
    "\n",
    "for i, row in tqdm(wilshire_biz_with_naics_gdf.iterrows()):\n",
    "    \n",
    "    fill_color = cmap[row.sector]\n",
    "    marker = CircleMarker(location=(row.geometry.y, row.geometry.x), radius=5, stroke=False, fill_color=fill_color, fill_opacity=1.0)\n",
    "    msg = HTML()\n",
    "    msg.value = \"Business: {}<br>Address: {}<br/>Sector: {}\".format(row['BUSINESS NAME'], \n",
    "                                                                    row['STREET ADDRESS'],\n",
    "                                                                    row['sector_desc'])\n",
    "    marker.popup = msg\n",
    "    markers.append(marker)\n",
    "    wilshire_biz_with_naics_gdf.loc[i, 'marker'] = marker\n",
    "\n",
    "wilshire_businesses_cluster = MarkerCluster(markers=markers, name='Businesses - Clustered')\n"
   ]
  },
  {
   "cell_type": "markdown",
   "id": "0c451b8d-25ca-49ea-a2ea-b8cce6640823",
   "metadata": {},
   "source": [
    "## Add to map\n",
    "\n",
    "Finally!!\n",
    "\n",
    "Sort of right at the boundary of permant maps with ipyleaflet.  Use the layer control to look at the two ways I'm showing the businesses.  MarkerClusters help?\n",
    "\n",
    "In any event, play with this map and tell me what you think.\n",
    "\n",
    "**Note:** I added both the clustered and unclustered marker sets."
   ]
  },
  {
   "cell_type": "code",
   "execution_count": null,
   "id": "fb3b0a87-56b0-4cce-8b9d-6edb82b95850",
   "metadata": {},
   "outputs": [],
   "source": [
    "map_display.add_layer(wilshire_businesses_cluster)\n",
    "\n",
    "all_businesses = LayerGroup(name=f\"All Businesses\", layers=markers)\n",
    "map_display += all_businesses"
   ]
  },
  {
   "cell_type": "markdown",
   "id": "56bf8736-cdf4-456c-ab8d-d8b3b1b6668a",
   "metadata": {},
   "source": [
    "Tired of bouncing around (and haven't done the seperate output cell), so let's display the final Wilshire map."
   ]
  },
  {
   "cell_type": "code",
   "execution_count": null,
   "id": "931d7d80-f06a-435f-b623-3c34f0be0183",
   "metadata": {},
   "outputs": [],
   "source": [
    "map_display"
   ]
  },
  {
   "cell_type": "markdown",
   "id": "c98dca31-4bf6-4842-b8fb-cd3e83159e8b",
   "metadata": {},
   "source": [
    "Whoa - crap on a map!  Try it in full screen mode (with the little square control)."
   ]
  },
  {
   "cell_type": "markdown",
   "id": "e55955ce-8482-4df8-b176-2e1c6c079667",
   "metadata": {},
   "source": [
    "Very last thing is to show how to add a legend to the map.  It can help"
   ]
  },
  {
   "cell_type": "code",
   "execution_count": null,
   "id": "d94d85d3-fe10-4fc4-8b75-b7c7325f5be4",
   "metadata": {},
   "outputs": [],
   "source": [
    "naics_descrips = wilshire_biz_with_naics_gdf.sector_desc.value_counts().keys().to_list()\n",
    "\n",
    "legend_cmap = dict(zip(naics_descrips, a_cmap))\n",
    "\n",
    "legend = LegendControl(legend_cmap, name='Legend', position='bottomright')\n",
    "\n",
    "map_display.add_control(legend)"
   ]
  },
  {
   "cell_type": "markdown",
   "id": "d83b2f41-6269-438b-ada3-b434d68177f9",
   "metadata": {},
   "source": [
    "# Summary/Conclusion\n",
    "\n",
    "We've looked at some techniques to filter/combine/aggregate the datasets.  A couple of observations:\n",
    "\n",
    "  1.  Pretty easy to get clutered maps.  You will need to add more focused attribution for selected features (i.e. OZ for a business?).\n",
    "  2.  Coding can get messy in notebooks.  Think reuse and factor into .py.\n",
    "  3.  I didn't cover folium but you can check out [previous work](https://github.com/hackforla/lasan) for some ideas with that package.\n",
    "  4.  leafmap is definitely worth a look-see.\n",
    "  5.  Food-for-thought: how can we add some (biz) stats to the bids_gdf?"
   ]
  },
  {
   "cell_type": "code",
   "execution_count": null,
   "id": "a5048427-067e-4128-9ed6-aceeb7e0fe5d",
   "metadata": {},
   "outputs": [],
   "source": []
  }
 ],
 "metadata": {
  "kernelspec": {
   "display_name": "Python 3 (ipykernel)",
   "language": "python",
   "name": "python3"
  },
  "language_info": {
   "codemirror_mode": {
    "name": "ipython",
    "version": 3
   },
   "file_extension": ".py",
   "mimetype": "text/x-python",
   "name": "python",
   "nbconvert_exporter": "python",
   "pygments_lexer": "ipython3",
   "version": "3.9.10"
  }
 },
 "nbformat": 4,
 "nbformat_minor": 5
}
