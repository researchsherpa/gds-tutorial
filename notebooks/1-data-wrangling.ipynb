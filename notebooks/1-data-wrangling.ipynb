{
 "cells": [
  {
   "cell_type": "markdown",
   "id": "c6221fa2-f512-4065-ad67-e35071dcc14e",
   "metadata": {},
   "source": [
    "# Data Wrangling\n",
    "\n",
    "Open government data drives our research.  To get started, we'll look at three foundation datasets:\n",
    "\n",
    "  1. Active businesses - Dataset from data.lacity.org with businesses in the city\n",
    "  2. City Boundaries - Dataset from LA County containing all juristictions\n",
    "  3. Opportunity Zones published by the state\n",
    "  \n",
    "Each of these datasets will cover multiple, common issues of open government data."
   ]
  },
  {
   "cell_type": "markdown",
   "id": "8efda935-875d-416a-817e-ccf39c8b8fdb",
   "metadata": {},
   "source": [
    "Before I start we need to set the env up.  I like to do (most) all my imports upfront.  I do it with a start.py in my profile_default.  This accomplishes the same thing.\n",
    "\n",
    "**Note:** This can be a bit slow because it initializes osmnx.  "
   ]
  },
  {
   "cell_type": "code",
   "execution_count": null,
   "id": "060c7627-9c4e-4975-a7fe-d31bd2be90d4",
   "metadata": {},
   "outputs": [],
   "source": [
    "#imports\n",
    "%run start.py"
   ]
  },
  {
   "cell_type": "markdown",
   "id": "67182443-19fa-41bf-bd8a-4e3c0ba075a8",
   "metadata": {
    "tags": []
   },
   "source": [
    "# Active Businesses\n",
    "\n",
    "Many large cities publish datasets about businesses.  LA is not exception.  They [publish](https://data.lacity.org/browse?q=Listing%20of%20Active%20Businesses&sortBy=relevance) an open dataset with businesses.  This section of code demonstrates how to [download](https://data.lacity.org/Administration-Finance/Listing-of-Active-Businesses/6rrh-rzua) directly from the site.  The following cell shows how to use pandas to read the file directly.\n",
    "\n",
    "**Note** this is a pandas data frame.\n",
    "\n",
    "The time to read directly from data.lacity.org will vary, but it should be a minute or so.  Since you only have to do this once, that's reasonable."
   ]
  },
  {
   "cell_type": "code",
   "execution_count": null,
   "id": "4e558ea1-d8e0-4d8d-8d48-5ac90d80f845",
   "metadata": {},
   "outputs": [],
   "source": [
    "%%time\n",
    "biz_df = pd.read_csv('https://data.lacity.org/api/views/6rrh-rzua/rows.csv', dtype={'NAICS': str})"
   ]
  },
  {
   "cell_type": "code",
   "execution_count": null,
   "id": "099868d0-16b5-42c1-b954-95b0be3689ac",
   "metadata": {},
   "outputs": [],
   "source": [
    "biz_df.info()"
   ]
  },
  {
   "cell_type": "markdown",
   "id": "f7ce8300-bac8-482a-a52d-038f97366034",
   "metadata": {},
   "source": [
    "Next step is to convert this dataframe to a geodataframe by adding a geometry attribute.  In geopandas, geometries are coded as [well known text](https://en.wikipedia.org/wiki/Well-known_text_representation_of_geometry).  Looking at the dataframe, it looks like we can use the LOCATION column.  The first issue we notice is that not all the rows have LOCATION.  As you'll see I'm also interested in NAICS codes, but that is a completely different beast!"
   ]
  },
  {
   "cell_type": "code",
   "execution_count": null,
   "id": "bfd2a5ee-cad0-4c81-b9a6-978efb171d8d",
   "metadata": {},
   "outputs": [],
   "source": [
    "without_loc = biz_df['LOCATION'].isnull().sum()\n",
    "\n",
    "without_naics = biz_df['NAICS'].isnull().sum()\n",
    "\n",
    "print(f\"{without_loc} ({without_loc / len(biz_df):.2f}) have no location ... a small number!\")\n",
    "\n",
    "print(f\"{without_naics} ({without_naics/ len(biz_df):.2f}) have no naics ... a bigger number but ...\")"
   ]
  },
  {
   "cell_type": "markdown",
   "id": "6ef9584c-f627-4dcb-9dbf-4b20f10e6bc5",
   "metadata": {
    "tags": []
   },
   "source": [
    "For this analysis I am going to simply remove the rows with out geometry.  \n",
    "\n",
    "I have no idea if the businesses without LOCATION are important, so I'll sketch the means to geocode using OSM. \n",
    "\n",
    "We can convert biz_df into those with LOCATION and those without."
   ]
  },
  {
   "cell_type": "code",
   "execution_count": null,
   "id": "a2470675-1944-4ba2-a079-431d3bc637df",
   "metadata": {},
   "outputs": [],
   "source": [
    "with_loc_biz_df = biz_df[biz_df.LOCATION.notnull()].reset_index()\n",
    "without_loc_biz_df = biz_df[biz_df.LOCATION.isnull()].reset_index()"
   ]
  },
  {
   "cell_type": "markdown",
   "id": "1fa65ecd-3db6-42b7-b2f2-00188d4e7dc1",
   "metadata": {},
   "source": [
    "You can verify the two dataframes have the desired LOCATION properties."
   ]
  },
  {
   "cell_type": "markdown",
   "id": "1e89a061-58de-4cd7-ad60-901738a6fc0e",
   "metadata": {},
   "source": [
    "## Geocoding\n",
    "\n",
    "Now we have the simple example geocoding function we'll use.\n",
    "\n",
    "**Note the caveats**"
   ]
  },
  {
   "cell_type": "code",
   "execution_count": null,
   "id": "b05bba88-fba6-4d7b-861c-000305105de7",
   "metadata": {},
   "outputs": [],
   "source": [
    "def geocode_address(row):\n",
    "    \"\"\"\n",
    "    Example function to geocode.\n",
    "    Uses the nominatim server from osm.\n",
    "    Should build in a one second pause as per the terms of nominatim.\n",
    "    Not adding any type of error handling...\n",
    "    \"\"\"\n",
    "    zip5 = row['ZIP CODE'].split('-')[0]\n",
    "    geocode_query = f\"{row['STREET ADDRESS']} {row['CITY']} CA {zip5}\"\n",
    "    lat, lon = ox.geocode(geocode_query)\n",
    "    return Point(lon, lat)"
   ]
  },
  {
   "cell_type": "markdown",
   "id": "b9617b09-e2e4-408d-b614-c09e5a3de1ac",
   "metadata": {},
   "source": [
    "With this function, we can demonstrate simple geocoding.  The next steps:\n",
    "\n",
    "  1. Examine the dataframe without LOCATION\n",
    "  2. Look at one row from the dataframe\n",
    "  3. Use that row as the argument to our geocoding function\n",
    "  \n",
    "I did not turn the ox.gecode information output, so you can see that we get a lat/long.\n",
    "\n",
    "Next, let's look at a value with no LOCATION and use that for geocode function."
   ]
  },
  {
   "cell_type": "code",
   "execution_count": null,
   "id": "db6bbc89-0321-46e2-8ae1-a55fa4d20e52",
   "metadata": {},
   "outputs": [],
   "source": [
    "without_loc_biz_df.iloc[0]"
   ]
  },
  {
   "cell_type": "code",
   "execution_count": null,
   "id": "d4eda4a5-1f55-4dc8-81ad-93be7b1a317e",
   "metadata": {},
   "outputs": [],
   "source": [
    "geocode_address(without_loc_biz_df.iloc[0])"
   ]
  },
  {
   "cell_type": "markdown",
   "id": "0af11fbb-1041-4006-b0a9-72ee5940de15",
   "metadata": {},
   "source": [
    "Or, if you want to see the wkt point.\n",
    "\n",
    "**Note:** If you try this with other points in the df you may get nominatim errors.  See the workshop repo for more details."
   ]
  },
  {
   "cell_type": "code",
   "execution_count": null,
   "id": "97184ea0-38d9-4dfc-bef2-08ba7587527c",
   "metadata": {},
   "outputs": [],
   "source": [
    "_.wkt"
   ]
  },
  {
   "cell_type": "markdown",
   "id": "ad59171c-8b4b-4ab1-80ea-df120ffc91c2",
   "metadata": {},
   "source": [
    "## NAICS\n",
    "\n",
    "I'm adding a preprocessing step on the [NAICS](https://en.wikipedia.org/wiki/North_American_Industry_Classification_System) codes.  This enables higher level queries on business types when we get into the analysis phase.  NAICS codes add complexity.  They have been used since the 90's so there are multiple versions.  For purposes of most business datasets they are self applied.  Messy!\n",
    "\n",
    "For this dataset I want to add a business sector description to each row (if it has a valid NAICS).  I'm using definitions from 2017.  There is a new verion but ...\n",
    "\n",
    "The steps:\n",
    "\n",
    "  1. Use xls from [Census](https://www.census.gov/naics/) to get the mappings\n",
    "  2. Slice the first two NAICS characters (business sector) from the businesses dataset\n",
    "  3. Lookup/add the description from the xls-based dictionary\n",
    "  \n",
    "Hacky, fast and dirty.  For more you can visit [previous workshop](https://github.com/researchsherpa/workshop)."
   ]
  },
  {
   "cell_type": "code",
   "execution_count": null,
   "id": "31e80767",
   "metadata": {},
   "outputs": [],
   "source": [
    "naics_desc = pd.read_excel('../data/2017_NAICS_Descriptions.xls')\n",
    "\n",
    "naics_desc['Code'] = naics_desc['Code'].astype(str)\n",
    "\n",
    "lookup_dict = naics_desc[['Code', 'Title']].set_index('Code')['Title'].to_dict()\n",
    "\n",
    "def lookup(key):\n",
    "    \"\"\"\n",
    "    Serious hack!\n",
    "    Modified the xls to reflect values in the data.\n",
    "    Object is understanding at the business sector level as query/search.\n",
    "    \"\"\"\n",
    "    \n",
    "    if key in lookup_dict.keys():\n",
    "\n",
    "        desc = lookup_dict[key]\n",
    "        if desc[-1:] == 'T':\n",
    "            desc = desc[:-1]\n",
    "    else:\n",
    "        desc = 'No NAICS'\n",
    "        \n",
    "    return desc.rstrip()"
   ]
  },
  {
   "cell_type": "code",
   "execution_count": null,
   "id": "90a8b442-94ac-4f48-9a61-51f1a898b4ab",
   "metadata": {},
   "outputs": [],
   "source": [
    "with_loc_biz_df['sector'] = with_loc_biz_df['NAICS'].astype(str).apply(lambda x: x[:2])\n",
    "\n",
    "with_loc_biz_df['sector_desc'] = with_loc_biz_df['sector'].apply(lambda x: lookup(x) + f\"({x})\")"
   ]
  },
  {
   "cell_type": "markdown",
   "id": "8e73617c-c0f7-4fb8-b639-0b538694d29f",
   "metadata": {},
   "source": [
    "Now we can look at the distribution, by business sector, for businesses in LA.\n",
    "\n",
    "**Note:** I won't deal with missing or bad codes."
   ]
  },
  {
   "cell_type": "code",
   "execution_count": null,
   "id": "e148aeee-e2f8-4e34-a16a-b7d9e4dc36e2",
   "metadata": {},
   "outputs": [],
   "source": [
    "with_loc_biz_df.sector_desc.value_counts()"
   ]
  },
  {
   "cell_type": "markdown",
   "id": "c96f6682-743b-43d9-b318-7ba613813ad2",
   "metadata": {},
   "source": [
    "## Geodataframe\n",
    "\n",
    "The final step is to convert the pandas dataframe into a geopandas geodataframe.  The key step is adding a geometry column, using LOCATION.\n",
    "\n",
    "As usual there are some **issues/warnings** with shapely projections, proj, and geopandas.  Since the versions I'm using for each of these packages are just showing the warnings, I'm not going to change things.  As upgrades happen this will have to be revisited.  For what we're doing now it doesn't matter."
   ]
  },
  {
   "cell_type": "code",
   "execution_count": null,
   "id": "f10085d3-eb3d-45c5-b54e-c95381fac26d",
   "metadata": {},
   "outputs": [],
   "source": [
    "def location_to_wkt(row_location):\n",
    "    \"\"\"\n",
    "    Utility function to convert the str based LOCATION into wkt.\n",
    "    wkt is the x-y version of lat-long\n",
    "    Note that longitude is the x\n",
    "    \"\"\"\n",
    "    x, y = np.array(row_location.strip('(').strip(')').replace(',', '').split(' ')[::-1])\n",
    "    return Point(float(x), float(y))\n",
    "    "
   ]
  },
  {
   "cell_type": "code",
   "execution_count": null,
   "id": "70b13ded-8fb4-4d71-9956-d20db151078d",
   "metadata": {},
   "outputs": [],
   "source": [
    "with_loc_biz_gdf = gpd.GeoDataFrame(with_loc_biz_df,\n",
    "                                crs={'init': 'epsg:4326'},\n",
    "                                #crs='+init=epsg:4326',\n",
    "                                geometry=with_loc_biz_df.apply(lambda row: location_to_wkt(row.LOCATION), axis=1))"
   ]
  },
  {
   "cell_type": "markdown",
   "id": "cf5f08f8-d086-4bd8-b2cd-050dd8e3fa52",
   "metadata": {},
   "source": [
    "Now info() shows the geodataframe with geometry column.  This is what we need to map the data and for any spatial processing."
   ]
  },
  {
   "cell_type": "code",
   "execution_count": null,
   "id": "209ce85a-8b9b-4845-b46f-e6e836edf5eb",
   "metadata": {
    "tags": []
   },
   "outputs": [],
   "source": [
    "with_loc_biz_gdf.info()"
   ]
  },
  {
   "cell_type": "code",
   "execution_count": null,
   "id": "3e7ca595-938e-4835-8ed7-a8d45cf39b1c",
   "metadata": {},
   "outputs": [],
   "source": [
    "with_loc_biz_gdf = with_loc_biz_gdf.to_crs(\"EPSG:4326\")"
   ]
  },
  {
   "cell_type": "code",
   "execution_count": null,
   "id": "c4588e0a-8a95-4d7e-bc41-72fc903a4ea2",
   "metadata": {},
   "outputs": [],
   "source": [
    "with_loc_biz_gdf.crs"
   ]
  },
  {
   "cell_type": "markdown",
   "id": "a1635a72-cc72-4b4c-bc1b-823f1cbcaf62",
   "metadata": {},
   "source": [
    "## Save the geodataframe\n",
    "\n",
    "Final step is to save the newly minted geopandas dataframe.  I'm using the **parquet file** format even though we get the **warning** from geopandas.  I have not had any problems with their version and it is way faster!"
   ]
  },
  {
   "cell_type": "code",
   "execution_count": null,
   "id": "a15a4b84-9509-469a-a242-d459d206521d",
   "metadata": {},
   "outputs": [],
   "source": [
    "with_loc_biz_gdf.to_parquet('../data/businesses-gdf.parq')"
   ]
  },
  {
   "cell_type": "markdown",
   "id": "ef724903-6b7e-4f8f-a42a-a95b0987dba3",
   "metadata": {},
   "source": [
    "So at this stage we have the buinesses dataset in a format for some geoanalysis."
   ]
  },
  {
   "cell_type": "markdown",
   "id": "daa6f53c-2e01-4acf-a6c4-5896b72c4922",
   "metadata": {},
   "source": [
    "# LA Cities\n",
    "\n",
    "This is the first of two datasets with polygon geometries we'll add to the analysis.\n",
    "\n",
    "The dataset is published by the Los Angeles County.  It includes boundaries for the different jurisdictions in the county, incorporated and unincorporated.\n",
    "\n",
    "What I want for this analysis is the boundary (polygon) for the City of Los Angeles."
   ]
  },
  {
   "cell_type": "code",
   "execution_count": null,
   "id": "6f10c328-d6c4-4cd4-aa74-5fa4408778b8",
   "metadata": {},
   "outputs": [],
   "source": [
    "IFrame(\"https://egis-lacounty.hub.arcgis.com/datasets/la-county-city-boundaries/explore?location=33.777536%2C-118.302300%2C9.00\", width=1200, height=800)"
   ]
  },
  {
   "cell_type": "markdown",
   "id": "677dbb2f-6469-481f-99fb-f91ffc97a452",
   "metadata": {},
   "source": [
    "For this dataset I've downloaded the shape file as a zip.  Geopandas is smart enough to handle it directly."
   ]
  },
  {
   "cell_type": "code",
   "execution_count": null,
   "id": "b07d788e-bd4f-4f81-9e38-37ffac95f18f",
   "metadata": {},
   "outputs": [],
   "source": [
    "city_boundaries_gdf = gpd.read_file('../data/LA_County_City_Boundaries.zip')"
   ]
  },
  {
   "cell_type": "markdown",
   "id": "3abcb774-2f63-42c4-a14a-5a43edd1eb58",
   "metadata": {},
   "source": [
    "Let's look at the crs for this dataset.  Note the analysis is typically done with epsg:4326."
   ]
  },
  {
   "cell_type": "code",
   "execution_count": null,
   "id": "4a625f97-9765-4e70-9966-79b4b5c73d5f",
   "metadata": {},
   "outputs": [],
   "source": [
    "city_boundaries_gdf.crs"
   ]
  },
  {
   "cell_type": "markdown",
   "id": "f6c0630d-d9cd-40f1-840c-2e8b0d0e4a90",
   "metadata": {},
   "source": [
    "If you want to know more about the crs, look at this:"
   ]
  },
  {
   "cell_type": "code",
   "execution_count": null,
   "id": "d0b7f7eb-9b7b-4763-b7ac-21351ff49d35",
   "metadata": {},
   "outputs": [],
   "source": [
    "IFrame('https://epsg.io/3857', width=1200, height=800)"
   ]
  },
  {
   "cell_type": "markdown",
   "id": "391252c4-606c-4ae0-9ab8-3fd296df6316",
   "metadata": {},
   "source": [
    "Let's change this while I'm thinking about it."
   ]
  },
  {
   "cell_type": "code",
   "execution_count": null,
   "id": "ac64a270-bee7-4d81-815c-95392c983588",
   "metadata": {
    "tags": []
   },
   "outputs": [],
   "source": [
    "city_boundaries_gdf.to_crs('EPSG:4326', inplace=True)"
   ]
  },
  {
   "cell_type": "markdown",
   "id": "528c5888-48fd-4084-ba8b-0919bb3f0f58",
   "metadata": {},
   "source": [
    "So this is a collection of polygons for all the jurisdictions in LA County.  \n",
    "\n",
    "geopandas has an easy way to visualize the data using folium:"
   ]
  },
  {
   "cell_type": "code",
   "execution_count": null,
   "id": "2bb2ff34-e105-4b28-a39e-92b3b30b6615",
   "metadata": {
    "tags": []
   },
   "outputs": [],
   "source": [
    "city_boundaries_gdf[['CITY_NAME', 'geometry']].explore(\n",
    "     column=\"CITY_NAME\", \n",
    "     tooltip=\"CITY_NAME\", \n",
    "     popup=True, \n",
    "     tiles=\"CartoDB positron\", \n",
    "     cmap=\"Set1\", \n",
    "     style_kwds=dict(color=\"black\") \n",
    "    )"
   ]
  },
  {
   "cell_type": "markdown",
   "id": "72f7aeb1-1207-42b7-bca6-381a40a3eae8",
   "metadata": {},
   "source": [
    "How can we use this to build a geodataframe with one polygon containing the boundary for the City of LA?  For that, let's dig a bit deeper.  Using two attributes, CITY_NAME and FEAT_TYPE, will get us closer."
   ]
  },
  {
   "cell_type": "code",
   "execution_count": null,
   "id": "a19ce04e-18a6-43a9-a1cb-62476c2e604f",
   "metadata": {},
   "outputs": [],
   "source": [
    "city_boundaries_gdf.CITY_NAME.value_counts()"
   ]
  },
  {
   "cell_type": "code",
   "execution_count": null,
   "id": "0bfb2933-c52f-4e0e-9664-28f41756b009",
   "metadata": {},
   "outputs": [],
   "source": [
    "city_boundaries_gdf.FEAT_TYPE.value_counts()"
   ]
  },
  {
   "cell_type": "code",
   "execution_count": null,
   "id": "1784237a-7a27-45c8-bd81-776116c11da3",
   "metadata": {},
   "outputs": [],
   "source": [
    "la_boundary_gdf = city_boundaries_gdf.query(f\"CITY_NAME == 'Los Angeles' and FEAT_TYPE == 'Land'\").reset_index().drop(columns=['index'])"
   ]
  },
  {
   "cell_type": "code",
   "execution_count": null,
   "id": "be5b20dc-b759-4a32-bd4a-be95fa7b22ef",
   "metadata": {},
   "outputs": [],
   "source": [
    "la_boundary_gdf"
   ]
  },
  {
   "cell_type": "markdown",
   "id": "17753cf0-f91b-4f51-9e02-19625e2bcbdb",
   "metadata": {},
   "source": [
    "There are six `land features` for City of LA.  I will not spend time to figure why these features are used, what is different, where they came from, ...  I just want a row with the boundary polygon (could be duplicated?).\n",
    "\n",
    "Look at the first row:"
   ]
  },
  {
   "cell_type": "code",
   "execution_count": null,
   "id": "25f2e3a8-4c5a-472c-9dde-e2b50f1a4507",
   "metadata": {},
   "outputs": [],
   "source": [
    "la_boundary_gdf.loc[:0].explore()"
   ]
  },
  {
   "cell_type": "markdown",
   "id": "21b13a35-63ed-4531-b4ec-003aea5f54bd",
   "metadata": {},
   "source": [
    "Good enough.  Let's save it for upstream processing."
   ]
  },
  {
   "cell_type": "code",
   "execution_count": null,
   "id": "10b4d1ea-ffe0-4bd5-bb13-fb184788a12b",
   "metadata": {},
   "outputs": [],
   "source": [
    "la_boundary_gdf.loc[:0].to_parquet('../data/la-boundary.parq')"
   ]
  },
  {
   "cell_type": "markdown",
   "id": "66eadbda-909a-44fb-9b3b-572bc31ab7c9",
   "metadata": {},
   "source": [
    "# Opportunity Zones\n",
    "\n",
    "Finally, for now, we'll look at [opportunity zones](https://en.wikipedia.org/wiki/Opportunity_zone).  They are Census tracts that meet certain criteria.  The State of California is responsible for which tracts to include."
   ]
  },
  {
   "cell_type": "code",
   "execution_count": null,
   "id": "51243f49-4548-46b2-bb3a-ce4d5f1bf11f",
   "metadata": {},
   "outputs": [],
   "source": [
    "IFrame(\"https://dof.ca.gov/forecasting/demographics/california-opportunity-zones/\", width=1200, height=800)"
   ]
  },
  {
   "cell_type": "markdown",
   "id": "dd35e459-ada9-4be4-9ddc-a1161419a590",
   "metadata": {},
   "source": [
    "The shape file has been downloaded for use here."
   ]
  },
  {
   "cell_type": "code",
   "execution_count": null,
   "id": "b0532094-5397-44dc-8b30-47dbeecb9a6a",
   "metadata": {},
   "outputs": [],
   "source": [
    "opportunity_zones_gdf = gpd.read_file('../data/FnlOZTracts.zip')"
   ]
  },
  {
   "cell_type": "code",
   "execution_count": null,
   "id": "70eb614e-d08c-47c9-ac36-fd5505d3233e",
   "metadata": {},
   "outputs": [],
   "source": [
    "opportunity_zones_gdf.explore()"
   ]
  },
  {
   "cell_type": "markdown",
   "id": "69a46600-e0b0-434a-91dc-850920207cb7",
   "metadata": {},
   "source": [
    "By now you should know the drill.  Make sure we have the standard crs and save as parquet file."
   ]
  },
  {
   "cell_type": "code",
   "execution_count": null,
   "id": "3d69ad8b-b711-401e-b35e-d01a9c76382d",
   "metadata": {},
   "outputs": [],
   "source": [
    "opportunity_zones_gdf.crs"
   ]
  },
  {
   "cell_type": "code",
   "execution_count": null,
   "id": "85ac13d0-6cce-420d-ba1a-f3811c4ab28a",
   "metadata": {},
   "outputs": [],
   "source": [
    "opportunity_zones_gdf.to_crs('EPSG:4326', inplace=True)"
   ]
  },
  {
   "cell_type": "code",
   "execution_count": null,
   "id": "ebf7aa20-4097-4f7e-9c30-e9835e22f05c",
   "metadata": {},
   "outputs": [],
   "source": [
    "opportunity_zones_gdf.to_parquet('../data/opportunity-zones.parq')"
   ]
  },
  {
   "cell_type": "markdown",
   "id": "1c2b728d-ad90-428f-a76d-5caf41a5fed9",
   "metadata": {
    "tags": []
   },
   "source": [
    "# Conclusion\n",
    "\n",
    "Three datasets have been curated for the rest of the analysis.  \n",
    "\n",
    "  1. Active businesses published by the City of Los Angeles\n",
    "  2. LA City boundary obtained from county jurisdictions data\n",
    "  3. Opportunity zone polygons from the State of California\n",
    "  \n",
    "All the files are in the ../data directory stored as parquet files (*.parq)."
   ]
  },
  {
   "cell_type": "code",
   "execution_count": null,
   "id": "0ee17433-abae-4e02-85f7-bc7989d4ed18",
   "metadata": {},
   "outputs": [],
   "source": []
  }
 ],
 "metadata": {
  "kernelspec": {
   "display_name": "Python 3 (ipykernel)",
   "language": "python",
   "name": "python3"
  },
  "language_info": {
   "codemirror_mode": {
    "name": "ipython",
    "version": 3
   },
   "file_extension": ".py",
   "mimetype": "text/x-python",
   "name": "python",
   "nbconvert_exporter": "python",
   "pygments_lexer": "ipython3",
   "version": "3.9.10"
  }
 },
 "nbformat": 4,
 "nbformat_minor": 5
}
