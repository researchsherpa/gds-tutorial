{
 "cells": [
  {
   "cell_type": "markdown",
   "id": "2f4fe8aa-d3b2-49bd-855a-7a31e6f90c7a",
   "metadata": {
    "tags": []
   },
   "source": [
    "# Urban Morphology\n",
    "\n",
    "[Urban Morphology](https://en.wikipedia.org/wiki/Urban_morphology)\n",
    "\n",
    "  `the study of the formation of human settlements and the process of their formation and transformation. The study seeks to understand the spatial structure and character of a metropolitan area, city, town or village by examining the patterns of its component parts`\n",
    "  \n",
    "A good reference to get started is the work of [Martin Fleischmann](https://onlinelibrary.wiley.com/doi/full/10.1111/gean.12302).  ([see also](https://github.com/martinfleis/evolution-gean))\n",
    "\n",
    "For this analysis, I'm also taking some inspiration from [this](https://medium.com/analytics-vidhya/measuring-urban-similarities-in-los-angeles-open-data-arcgis-sklearn-71b3bef53ea6) Medium article.\n",
    "\n",
    "The spatial unit I want to use for comparison is the Business Improvement District (BID).  Building on the previous notebooks I will demonstrate some ideas to combine datasets to create `measures` for BIDs.  Specifically, I'll look at two types of measures:\n",
    "\n",
    "  1. Land use using the zoning dataset from City of LA.\n",
    "  2. Street network complexity via OSM and osmnx.\n",
    "  \n",
    "My goal is to demonstrate the ideas, not complete the analysis.  Armed with this information you can do a similar analysis for Neighborhood Councils, for example."
   ]
  },
  {
   "cell_type": "markdown",
   "id": "470dae30-4ec3-4139-b6ee-542705ea8445",
   "metadata": {},
   "source": [
    "Before I start we need to set the env up.  I like to do (most) all my imports upfront.  I do it with a start.py in my profile_default.  This accomplishes the same thing.\n",
    "\n",
    "**Note:** This can be a bit slow because it initializes osmnx.  "
   ]
  },
  {
   "cell_type": "code",
   "execution_count": null,
   "id": "790e7657-955b-4d77-99f7-4aa8ae6d6a16",
   "metadata": {},
   "outputs": [],
   "source": [
    "#imports\n",
    "%run start.py"
   ]
  },
  {
   "cell_type": "markdown",
   "id": "9f3613a9-777b-46b2-a099-0466c0535948",
   "metadata": {},
   "source": [
    "## Setup"
   ]
  },
  {
   "cell_type": "markdown",
   "id": "b7432a01-fe33-461f-8e05-22d5284eb0a6",
   "metadata": {},
   "source": [
    "I'm adding a couple of utility functions for starters.  If you are doing this **for real** you will starting building a supporting library for these types of utilities.  If you have that one of the first things you do is import them."
   ]
  },
  {
   "cell_type": "code",
   "execution_count": null,
   "id": "e79a446b-454b-4709-b16b-298f3d95f73d",
   "metadata": {},
   "outputs": [],
   "source": [
    "def pprint_bid(gdf):\n",
    "    \"\"\"\n",
    "    Think of a pretty print type of function.\n",
    "    As you see this function is hardcoded for the dataframe with zoning information.\n",
    "    Ugly but effective for my purpose.\n",
    "    \"\"\"\n",
    "    return gdf.explore(\n",
    "        column=\"ZONE_SMRY\", \n",
    "         tooltip=[\"ZONE_CMPLT\",\"ZONE_CLASS\", \"ZONE_SMRY\"], \n",
    "         popup=True, \n",
    "         #tiles=\"CartoDB positron\", \n",
    "         cmap=[\"red\", \"blue\", \"green\", \"yellow\", \"purple\", \"orange\", \"brown\"], \n",
    "         style_kwds=dict(color=\"black\") \n",
    "    )\n",
    "\n",
    "def side_by_side(overview_gdf, detailed_gdf):\n",
    "    \"\"\"\n",
    "    This is a common idiom that I use.  It will display two maps side by side\n",
    "    \"\"\"\n",
    "    \n",
    "    left_output = Output(layout={'border': '1px solid black',\n",
    "                            'width': '50%'})\n",
    "\n",
    "    right_output = Output(layout={'border': '1px solid black',\n",
    "                            'width': '50%'})\n",
    "\n",
    "    with left_output:\n",
    "        display(overview_gdf.explore())\n",
    "\n",
    "    with right_output:\n",
    "        #display(pretty_bid(detailed_gdf))\n",
    "        display(detailed_gdf)\n",
    "\n",
    "    display(HBox([left_output, right_output]))"
   ]
  },
  {
   "cell_type": "markdown",
   "id": "0b1e9d2f-3043-4446-be8c-736d163b3454",
   "metadata": {},
   "source": [
    "Background context for our analysis is Business Improvement Districts (BIDs).  Not going to spend much time here since we've looked at BIDs in detail in a prior notebook."
   ]
  },
  {
   "cell_type": "code",
   "execution_count": null,
   "id": "6bc04c04-2f5c-46ba-a23e-0ee9d5ffe541",
   "metadata": {},
   "outputs": [],
   "source": [
    "bids_gdf = gpd.read_file('../data/Business Improvement Districts.zip')"
   ]
  },
  {
   "cell_type": "code",
   "execution_count": null,
   "id": "b53b0467-8e46-4262-bc78-31613cf09a29",
   "metadata": {},
   "outputs": [],
   "source": [
    "bids_gdf.columns"
   ]
  },
  {
   "cell_type": "markdown",
   "id": "b8eb0c4f-1dad-4364-891b-78d3f65eb2e0",
   "metadata": {},
   "source": [
    "# Land Use"
   ]
  },
  {
   "cell_type": "code",
   "execution_count": null,
   "id": "516d685c-44a3-4784-bf23-0f25dfd27cb3",
   "metadata": {},
   "outputs": [],
   "source": [
    "IFrame(\"https://geohub.lacity.org/datasets/lahub::zoning/explore?location=34.018048%2C-118.412136%2C10.23\", width=1200, height=800)"
   ]
  },
  {
   "cell_type": "markdown",
   "id": "2870b0f3-4c6f-4af5-a345-cf24847d9447",
   "metadata": {},
   "source": [
    "From this site, download the Zoning.zip.  This what we'll use for the land use component."
   ]
  },
  {
   "cell_type": "code",
   "execution_count": null,
   "id": "b7fe9204-9034-4ec2-b824-f68f713ba021",
   "metadata": {},
   "outputs": [],
   "source": [
    "%%time\n",
    "zone_gdf = gpd.read_file('../data/Zoning.zip')"
   ]
  },
  {
   "cell_type": "code",
   "execution_count": null,
   "id": "b10fa88f-9652-4e45-87b7-8abf75d2564d",
   "metadata": {},
   "outputs": [],
   "source": [
    "len(zone_gdf)"
   ]
  },
  {
   "cell_type": "code",
   "execution_count": null,
   "id": "20619740-42f5-41e6-ab9c-ec6951bd9191",
   "metadata": {},
   "outputs": [],
   "source": [
    "zone_gdf.columns"
   ]
  },
  {
   "cell_type": "code",
   "execution_count": null,
   "id": "247b0969-fd2b-4902-bcf0-ed6619357d9d",
   "metadata": {},
   "outputs": [],
   "source": [
    "zone_gdf.head()"
   ]
  },
  {
   "cell_type": "markdown",
   "id": "f871fb97-e777-4dc1-95f7-73c9e6a02fc3",
   "metadata": {},
   "source": [
    "Let's look at the summary descrptions for zones.  This fits with the metrics we're trying to build.\n",
    "\n",
    "**Note:** You can look at a pdf I put in the data directory, Summary of Zoning Regulations, for more details on what this all means."
   ]
  },
  {
   "cell_type": "code",
   "execution_count": null,
   "id": "ff5cad43-2944-4be3-9e33-596d4bcc6f92",
   "metadata": {},
   "outputs": [],
   "source": [
    "zone_gdf.ZONE_SMRY.value_counts()"
   ]
  },
  {
   "cell_type": "markdown",
   "id": "36627dbf-800d-419c-9ebf-433d28468ce9",
   "metadata": {},
   "source": [
    "We should use some of these for our indicators.\n",
    "\n",
    "I just want the zone polygons that are in the BIDs.  Simple spatial join accomplishes this."
   ]
  },
  {
   "cell_type": "code",
   "execution_count": null,
   "id": "5f616b96-0962-4a32-ab71-8dbfb34973df",
   "metadata": {},
   "outputs": [],
   "source": [
    "biz_zone_intersects_gdf = bids_gdf.to_crs('epsg:2229').overlay(zone_gdf.to_crs('epsg:2229'), \n",
    "                                                               how='intersection', \n",
    "                                                               keep_geom_type=False)"
   ]
  },
  {
   "cell_type": "markdown",
   "id": "7450fbbd-7524-426e-a19f-34d11714129d",
   "metadata": {},
   "source": [
    "Quick look at what this gdf contains shows it has what we need.  We can subset on prog_name (i.e., the BID name) to get ZONE_SMRY and geometry."
   ]
  },
  {
   "cell_type": "code",
   "execution_count": null,
   "id": "f48016d6-1d8f-40fa-9b3b-840d1f47efac",
   "metadata": {},
   "outputs": [],
   "source": [
    "biz_zone_intersects_gdf.columns"
   ]
  },
  {
   "cell_type": "code",
   "execution_count": null,
   "id": "b310aeb8-7fb6-4dae-b5b4-e8777b9d799b",
   "metadata": {},
   "outputs": [],
   "source": [
    "len(biz_zone_intersects_gdf)"
   ]
  },
  {
   "cell_type": "markdown",
   "id": "5d8d0f8f-d9dc-405f-b4d8-11e68060c17e",
   "metadata": {},
   "source": [
    "A much smaller number of the zone polygons are in our BIDs (passes the goofy test).\n",
    "\n",
    "Next I want to start looking at some of the BIDs.  As usual, my mental map of LA is a bit weak so I'll just pick some:\n",
    "\n",
    "Wilshire, Venic Beach, Chatsworth, and Hollywood."
   ]
  },
  {
   "cell_type": "code",
   "execution_count": null,
   "id": "dbcc4dd6-b080-471a-bb8a-e9db39a99a3b",
   "metadata": {},
   "outputs": [],
   "source": [
    "biz_zone_intersects_gdf.prog_name.value_counts()"
   ]
  },
  {
   "cell_type": "markdown",
   "id": "8a3bef1f-d8d7-4be9-9233-a844f6ed59cb",
   "metadata": {},
   "source": [
    "## Wilshire Center"
   ]
  },
  {
   "cell_type": "code",
   "execution_count": null,
   "id": "af0a388b-c577-4851-8d0d-fc5f5fbf6e66",
   "metadata": {},
   "outputs": [],
   "source": [
    "wilshire_gdf = bids_gdf.query(f\"prog_name == 'WILSHIRE CENTER'\")\n",
    "\n",
    "wilshire_zone_gdf = biz_zone_intersects_gdf.query(f\"prog_name == 'WILSHIRE CENTER'\").reset_index().drop(columns=['index'])"
   ]
  },
  {
   "cell_type": "code",
   "execution_count": null,
   "id": "bbc649ce-5341-4f29-a167-36af71005aad",
   "metadata": {},
   "outputs": [],
   "source": [
    "side_by_side(wilshire_gdf, pprint_bid(wilshire_zone_gdf))"
   ]
  },
  {
   "cell_type": "markdown",
   "id": "76c40461-c6f1-428b-a2c9-2cfe65193237",
   "metadata": {},
   "source": [
    "Not real partial to the layout from .explore with the legend and all, but you get the idea."
   ]
  },
  {
   "cell_type": "code",
   "execution_count": null,
   "id": "22f42003-cb57-4283-bc3d-12e734752f50",
   "metadata": {},
   "outputs": [],
   "source": [
    "wilshire_zone_gdf.ZONE_SMRY.value_counts()"
   ]
  },
  {
   "cell_type": "markdown",
   "id": "6234f347-2e0f-4232-8e03-ae2fb1f27f8c",
   "metadata": {},
   "source": [
    "Remember when we discussed the concept of a utility function?  This next section of code is also a candidate!"
   ]
  },
  {
   "cell_type": "code",
   "execution_count": null,
   "id": "96963fae-1b4b-4a86-9371-56c1f7ae89a4",
   "metadata": {},
   "outputs": [],
   "source": [
    "wilshire_zone_gdf['area'] = wilshire_zone_gdf.to_crs(\"epsg:2229\").area"
   ]
  },
  {
   "cell_type": "code",
   "execution_count": null,
   "id": "4453c4e2-2762-470d-91ef-7c3c0e3149e5",
   "metadata": {},
   "outputs": [],
   "source": [
    "wilshire_commercial_area = wilshire_zone_gdf.query(f\"ZONE_SMRY == 'COMMERCIAL'\")['area'].sum() \n",
    "wilshire_residential_area = wilshire_zone_gdf.query(f\"ZONE_SMRY == 'RESIDENTIAL'\")['area'].sum()\n",
    "wilshire_parking_area = wilshire_zone_gdf.query(f\"ZONE_SMRY == 'PARKING'\")['area'].sum()\n",
    "wilshire_open_space_area = wilshire_zone_gdf.query(f\"ZONE_SMRY == 'OPEN SPACE'\")['area'].sum()\n",
    "wilshire_area = wilshire_gdf.shape_area.iloc[0]#.to_crs(\"epsg:2229\").area.iloc[0]"
   ]
  },
  {
   "cell_type": "code",
   "execution_count": null,
   "id": "c0986064-8a9a-4bba-bfb9-280be92267f5",
   "metadata": {},
   "outputs": [],
   "source": [
    "print(f\"commercial density: {round((wilshire_commercial_area / wilshire_area), 2)}\")\n",
    "\n",
    "print(f\"residential density: {round((wilshire_residential_area / wilshire_area), 2)}\")\n",
    "\n",
    "print(f\"parking density: {round((wilshire_parking_area / wilshire_area), 2)}\")\n",
    "\n",
    "print(f\"open space density: {round((wilshire_open_space_area / wilshire_area), 2)}\")"
   ]
  },
  {
   "cell_type": "markdown",
   "id": "ebd990cf-c168-4b3f-9798-346e9e6f1f47",
   "metadata": {},
   "source": [
    "The astute reader will do the math and wonder...  Why don't they add up to (approx) one?\n",
    "\n",
    "I don't want to investigate any further!"
   ]
  },
  {
   "cell_type": "markdown",
   "id": "20199f6f-751f-4a23-8174-d629f9638a58",
   "metadata": {},
   "source": [
    "## Venice Beach"
   ]
  },
  {
   "cell_type": "code",
   "execution_count": null,
   "id": "bf6ac33a-419c-4883-9b5a-14e0d05b5fc3",
   "metadata": {},
   "outputs": [],
   "source": [
    "vb_gdf = bids_gdf.query(f\"prog_name == 'VENICE BEACH'\").reset_index().drop(columns=['index'])\n",
    "\n",
    "vb_zone_gdf = biz_zone_intersects_gdf.query(f\"prog_name == 'VENICE BEACH'\").reset_index().drop(columns=['index'])"
   ]
  },
  {
   "cell_type": "code",
   "execution_count": null,
   "id": "eb8fd48d-6672-459b-a91b-1a91db43f62f",
   "metadata": {},
   "outputs": [],
   "source": [
    "side_by_side(vb_gdf, pprint_bid(vb_zone_gdf))"
   ]
  },
  {
   "cell_type": "code",
   "execution_count": null,
   "id": "5dc80027-9020-467b-93de-aac530b18982",
   "metadata": {},
   "outputs": [],
   "source": [
    "vb_zone_gdf.ZONE_SMRY.value_counts()"
   ]
  },
  {
   "cell_type": "markdown",
   "id": "e61fbd6d-b5f2-41da-b02f-4e797a4d3b51",
   "metadata": {},
   "source": [
    "We already see one difference.  This BID has INDUSTRIAL zoned data, whereas Wilshire did not.\n",
    "\n",
    "I am going to generate all the percentages one more time (remember this is cut-paste but you can build a function)."
   ]
  },
  {
   "cell_type": "code",
   "execution_count": null,
   "id": "450d63ab-31df-4ac0-a3ea-ff791c47d902",
   "metadata": {},
   "outputs": [],
   "source": [
    "vb_zone_gdf.ZONE_SMRY.value_counts()"
   ]
  },
  {
   "cell_type": "code",
   "execution_count": null,
   "id": "b1a8346b-29bb-419f-ba01-2492c851fb8b",
   "metadata": {},
   "outputs": [],
   "source": [
    "vb_zone_gdf['area'] = vb_zone_gdf.area #.to_crs(\"epsg:2229\").area\n",
    "\n",
    "vb_commercial_area = vb_zone_gdf.query(f\"ZONE_SMRY == 'COMMERCIAL'\")['area'].sum() \n",
    "vb_residential_area = vb_zone_gdf.query(f\"ZONE_SMRY == 'RESIDENTIAL'\")['area'].sum()\n",
    "vb_industrial_area = vb_zone_gdf.query(f\"ZONE_SMRY == 'INDUSTRIAL'\")['area'].sum()\n",
    "vb_open_space_area = vb_zone_gdf.query(f\"ZONE_SMRY == 'OPEN SPACE'\")['area'].sum()\n",
    "vb_public_facility_area = vb_zone_gdf.query(f\"ZONE_SMRY == 'PUBLIC FACILITY'\")['area'].sum()\n",
    "vb_area = vb_gdf.shape_area.iloc[0]#to_crs(\"epsg:2229\").area.iloc[0]\n",
    "\n",
    "print(f\"commercial density: {round((vb_commercial_area / vb_area), 2)}\")\n",
    "\n",
    "print(f\"residential density: {round((vb_residential_area / vb_area), 2)}\")\n",
    "\n",
    "print(f\"industrial density: {round((vb_industrial_area / vb_area), 2)}\")\n",
    "\n",
    "print(f\"open space density: {round((vb_open_space_area / vb_area), 2)}\")\n",
    "\n",
    "print(f\"public facility density: {round((vb_public_facility_area / vb_area), 2)}\")"
   ]
  },
  {
   "cell_type": "code",
   "execution_count": null,
   "id": "35d098e9-70eb-41cd-82cd-68a82211f0de",
   "metadata": {},
   "outputs": [],
   "source": [
    "(vb_commercial_area / vb_area) + (vb_residential_area / vb_area) + (vb_industrial_area / vb_area) + (vb_open_space_area / vb_area) + (vb_public_facility_area / vb_area)"
   ]
  },
  {
   "cell_type": "markdown",
   "id": "dce478c9-1a09-4d32-a192-0f4a99fd36fb",
   "metadata": {},
   "source": [
    "Once again, ...  If I had (wanted to spend) more time I would try to understand.\n",
    "\n",
    "Since I'm just looking for `relative` measurements it may be ok."
   ]
  },
  {
   "cell_type": "markdown",
   "id": "4c9d3c8e-55cd-4df6-b1e9-d498bbb00887",
   "metadata": {},
   "source": [
    "## Chatsworth"
   ]
  },
  {
   "cell_type": "code",
   "execution_count": null,
   "id": "10d5963b-28a5-42f7-9b8c-dedd8ccf2586",
   "metadata": {},
   "outputs": [],
   "source": [
    "chatsworth_gdf = bids_gdf.query(f\"prog_name == 'CHATSWORTH'\")\n",
    "\n",
    "chatsworth_zone_gdf = biz_zone_intersects_gdf.query(f\"prog_name == 'CHATSWORTH'\").reset_index().drop(columns=['index'])\n",
    "\n",
    "side_by_side(chatsworth_gdf, pprint_bid(chatsworth_zone_gdf))"
   ]
  },
  {
   "cell_type": "markdown",
   "id": "3541f761-ee87-4164-a4de-da0aeb587eb1",
   "metadata": {},
   "source": [
    "## Hollywood"
   ]
  },
  {
   "cell_type": "code",
   "execution_count": null,
   "id": "fdec1ab1-31ca-4cf8-901a-d72bd0da4f5f",
   "metadata": {},
   "outputs": [],
   "source": [
    "hollywood_gdf = bids_gdf.query(f\"prog_name == 'HOLLYWOOD ENTERTAINMENT DISTRICT'\")\n",
    "\n",
    "hollywood_zone_gdf = biz_zone_intersects_gdf.query(f\"prog_name == 'HOLLYWOOD ENTERTAINMENT DISTRICT'\").reset_index().drop(columns=['index'])\n",
    "\n",
    "side_by_side(hollywood_gdf, pprint_bid(hollywood_zone_gdf))"
   ]
  },
  {
   "cell_type": "markdown",
   "id": "e90c26e8-766b-46f0-bb82-9a43cb955dd4",
   "metadata": {},
   "source": [
    "## Summary Stats"
   ]
  },
  {
   "cell_type": "code",
   "execution_count": null,
   "id": "5affb6b2-43a5-4b76-852b-5ab6ea57147b",
   "metadata": {},
   "outputs": [],
   "source": [
    "biz_zone_intersects_gdf.crs"
   ]
  },
  {
   "cell_type": "code",
   "execution_count": null,
   "id": "0eaaf943-93cd-4d97-82cb-a194fa1d3983",
   "metadata": {},
   "outputs": [],
   "source": [
    "len(bids_gdf)"
   ]
  },
  {
   "cell_type": "code",
   "execution_count": null,
   "id": "2ce8f2b7-356a-4eba-a12c-5db55ff50878",
   "metadata": {},
   "outputs": [],
   "source": [
    "def commercial_measures(row):\n",
    "    bid_name = row['prog_name']\n",
    "    bid_area = row.shape_area\n",
    "    c_area = biz_zone_intersects_gdf.query(f\"prog_name == '{bid_name}'\").query(f\"ZONE_SMRY == 'COMMERCIAL'\").area.sum()\n",
    "    c_density = round((c_area / bid_area), 2)\n",
    "    \n",
    "    return pd.Series([c_area, c_density]) #bid_area#, c_percent"
   ]
  },
  {
   "cell_type": "code",
   "execution_count": null,
   "id": "eef10af5-a249-415f-8062-84751d5b773c",
   "metadata": {},
   "outputs": [],
   "source": [
    "bids_gdf[['commercial_area', 'c_density']] = bids_gdf.apply(lambda row: commercial_measures(row), axis=1)"
   ]
  },
  {
   "cell_type": "markdown",
   "id": "bdcf8dee-b80a-400a-8d72-74381b6ccbe4",
   "metadata": {},
   "source": [
    "When you look bids_gdf the righmost column is the density of commercially zoned space.  You can see the range."
   ]
  },
  {
   "cell_type": "code",
   "execution_count": null,
   "id": "6a2ff0c6-f071-4a21-8f1a-ff9b19c5848a",
   "metadata": {},
   "outputs": [],
   "source": [
    "bids_gdf"
   ]
  },
  {
   "cell_type": "markdown",
   "id": "223f8810-c5fe-4c75-8eee-fbf78128875d",
   "metadata": {},
   "source": [
    "Remember the four BIDs I've been looking at?"
   ]
  },
  {
   "cell_type": "code",
   "execution_count": null,
   "id": "9fcd2820-205f-497b-be35-af867d2503ae",
   "metadata": {},
   "outputs": [],
   "source": [
    "my_bids = ['WILSHIRE CENTER', 'VENICE BEACH', 'CHATSWORTH', 'HOLLYWOOD ENTERTAINMENT DISTRICT']\n",
    "bids_gdf.query(f\"prog_name in @my_bids\")"
   ]
  },
  {
   "cell_type": "markdown",
   "id": "845fc7df-6aa6-4420-8f34-a3c7f40db095",
   "metadata": {},
   "source": [
    "So, interesting range of commercial zone percentages in these four zones?\n",
    "\n",
    "Finally we can gen up a choropleth to show the distribution spatially."
   ]
  },
  {
   "cell_type": "code",
   "execution_count": null,
   "id": "12b7420d-7111-43cc-80ec-04068da14e3d",
   "metadata": {},
   "outputs": [],
   "source": [
    "bids_gdf.explore(\n",
    "        column=\"c_density\", \n",
    "         tooltip=[\"c_density\", \"prog_name\"], \n",
    "         popup=True, \n",
    "         tiles=\"CartoDB positron\", \n",
    "         cmap='YlOrRd', #[\"red\", \"blue\", \"green\", \"yellow\", \"purple\", \"orange\", \"brown\"], \n",
    "         style_kwds=dict(color=\"black\") \n",
    "    )"
   ]
  },
  {
   "cell_type": "markdown",
   "id": "80772949-cbe8-437d-b03d-1dc18ef488c2",
   "metadata": {},
   "source": [
    "So that is all I'll do with the COMMERCIAL zone measurements.\n",
    "\n",
    "I suspect one may want to look at INDUSTRIAL too?  What if you wanted to apply this same workflow to Neighborhood Councils and the question was livibility?  You could use RESIDENTIAL and OPEN SPACE? ...  "
   ]
  },
  {
   "cell_type": "markdown",
   "id": "c70624d1-72b1-4c74-8ea9-6912f5c34dd6",
   "metadata": {
    "tags": []
   },
   "source": [
    "# Street Networks\n",
    "\n",
    "Next I want to look at some metrics on street neworks in each of the bids.  I will use [osmnx](https://geoffboeing.com/2016/11/osmnx-python-street-networks/#:~:text=OSMnx%20is%20a%20Python%20package,easily%20analyze%20and%20visualize%20them.) and base this on [a paper](https://appliednetsci.springeropen.com/articles/10.1007/s41109-019-0189-1) by Geoff Boeing.\n",
    "\n",
    "A few comments are in order:\n",
    "\n",
    "  1.  As the name implies this package uses OSM.  The city of LA publishes a street network too.  If you want to use their data you should check out [another package](https://pysal.org/notebooks/explore/spaghetti/intro.html).  With some work I suspect you can get to similar measures.\n",
    "  2.  I will not be completing the whole analysis outlined in the paper.  My objective is to show the basics so you can get started."
   ]
  },
  {
   "cell_type": "markdown",
   "id": "7cd8ccfb-e79d-4e27-a118-d3855a184768",
   "metadata": {},
   "source": [
    "osmnx produce plots, results, debugging as it executes.  I've figured out how to turn most of it off, but as you'll see I wasn't completely successful!"
   ]
  },
  {
   "cell_type": "code",
   "execution_count": null,
   "id": "74dd8c4b-d2a8-49e5-ad94-774db1b60219",
   "metadata": {},
   "outputs": [],
   "source": [
    "ox.config(log_console=False)"
   ]
  },
  {
   "cell_type": "markdown",
   "id": "913aae52-fddc-4a3f-b28c-de718bd30a21",
   "metadata": {},
   "source": [
    "Think utility function and import once again."
   ]
  },
  {
   "cell_type": "code",
   "execution_count": null,
   "id": "b4fd21a8-b1e8-40d9-9b0b-42ecc96562ee",
   "metadata": {},
   "outputs": [],
   "source": [
    "#ox.config(log_console=False)\n",
    "def side_by_side_plots(fig1, fig2):\n",
    "    \"\"\"\n",
    "    This is a common idiom that I use.  It will display two maps side by side\n",
    "    \"\"\"\n",
    "    #fig1 = ox.plot_graph(osmnx_graph)[0];\n",
    "    #fig2 = ox.plot_orientation(osmnx_graph.to_undirected())[0];\n",
    "    left_output = Output(layout={'border': '1px solid black',\n",
    "                            'width': '50%'})\n",
    "\n",
    "    right_output = Output(layout={'border': '1px solid black',\n",
    "                            'width': '50%'})\n",
    "\n",
    "    with left_output:\n",
    "        display(fig1)\n",
    "\n",
    "    with right_output:\n",
    "        #display(pretty_bid(detailed_gdf))\n",
    "        display(fig2)\n",
    "\n",
    "    display(HBox([left_output, right_output]))"
   ]
  },
  {
   "cell_type": "markdown",
   "id": "bf721ad2-7642-4ff4-b4a2-4cb18af0cd67",
   "metadata": {},
   "source": [
    "## Build the street networks\n",
    "\n",
    "Let's focus on the four BIDs we've been dealing with up to this point.  I will use the gdf to get the geometry."
   ]
  },
  {
   "cell_type": "code",
   "execution_count": null,
   "id": "dfeb4970-68d3-49e1-bb96-8711c00c8b91",
   "metadata": {},
   "outputs": [],
   "source": [
    "my_bids = ['WILSHIRE CENTER', 'VENICE BEACH', 'CHATSWORTH', 'HOLLYWOOD ENTERTAINMENT DISTRICT']\n",
    "bids_osmnx_gdf = bids_gdf.query(f\"prog_name in @my_bids\").reset_index().drop(columns=['index'])\n",
    "bids_osmnx_gdf"
   ]
  },
  {
   "cell_type": "markdown",
   "id": "6179690f-3a02-4267-9d2a-30fc2a11e09b",
   "metadata": {},
   "source": [
    "I can now use the geometry with osmnx to get the data in that polygon and build the osmnx graph.\n",
    "\n",
    "**Note:** The osmnx graph is a link-node structure.  It supports many network oriented functions.  It is easy to transform to a geopandas gdf too."
   ]
  },
  {
   "cell_type": "code",
   "execution_count": null,
   "id": "5149a22c-1770-4f15-8d26-91757bf96767",
   "metadata": {},
   "outputs": [],
   "source": [
    "g_chatsworth = ox.graph_from_polygon(bids_osmnx_gdf.iloc[0]['geometry'], network_type=\"drive_service\")\n",
    "g_hollywood = ox.graph_from_polygon(bids_osmnx_gdf.iloc[1]['geometry'], network_type=\"drive_service\")\n",
    "g_wilshire = ox.graph_from_polygon(bids_osmnx_gdf.iloc[2]['geometry'], network_type=\"drive_service\")\n",
    "g_vb = ox.graph_from_polygon(bids_osmnx_gdf.iloc[3]['geometry'], network_type=\"drive_service\")\n"
   ]
  },
  {
   "cell_type": "markdown",
   "id": "b075d6b0-d306-4a34-bab2-f843442dc5e9",
   "metadata": {},
   "source": [
    "As you'll see next I haven't yet figured out how to control the internal \"outputs\" of the orientation function."
   ]
  },
  {
   "cell_type": "code",
   "execution_count": null,
   "id": "62f2c965-2ecd-4510-8807-0cee6f3d2556",
   "metadata": {},
   "outputs": [],
   "source": [
    "chatsworth_plot = ox.plot_graph(g_chatsworth, figsize=(12,12), show=False, close=True)[0];\n",
    "hollywood_plot = ox.plot_graph(g_hollywood, figsize=(12,12), show=False, close=True)[0]\n",
    "wilshire_plot = ox.plot_graph(g_wilshire, figsize=(12,12), show=False, close=True)[0]\n",
    "vb_plot = ox.plot_graph(g_vb, show=False, figsize=(12,12), close=True)[0]\n",
    "\n",
    "ox.add_edge_bearings(g_chatsworth)\n",
    "chatsworth_orientation_plot = ox.plot_orientation(g_chatsworth.to_undirected())[0];\n",
    "\n",
    "ox.add_edge_bearings(g_hollywood)\n",
    "hollywood_orientation_plot = ox.plot_orientation(g_hollywood.to_undirected())[0];\n",
    "\n",
    "ox.add_edge_bearings(g_wilshire)\n",
    "wilshire_orientation_plot = ox.plot_orientation(g_wilshire.to_undirected())[0];\n",
    "\n",
    "ox.add_edge_bearings(g_vb)\n",
    "vb_orientation_plot = ox.plot_orientation(g_vb.to_undirected())[0];"
   ]
  },
  {
   "cell_type": "markdown",
   "id": "b48cdea5-9f55-47be-a9e3-b4909243172b",
   "metadata": {},
   "source": [
    "At this stage we have what's needed for a simple summary of the street network `complexity`.  [read the docs](https://osmnx.readthedocs.io/en/latest/index.html) and you can find many other capabilities of this package!"
   ]
  },
  {
   "cell_type": "markdown",
   "id": "d66ab828-f827-4894-a62b-9bdd72983c0f",
   "metadata": {},
   "source": [
    "## Summarize street measures\n",
    "\n",
    "Finally, let's look at some of the outputs from osmnx.  \n",
    "\n",
    "For each of the BIDs we'll look at some output from the graph and two plots, side-by-side.  "
   ]
  },
  {
   "cell_type": "code",
   "execution_count": null,
   "id": "f38f0d45-ebf2-42ad-8a50-55764eba6fd8",
   "metadata": {},
   "outputs": [],
   "source": [
    "def street_summary(osmnx_graph):\n",
    "    \"\"\"\n",
    "    Use the directed graph to generate statistics.\n",
    "    Uses the stats module from osmnx.\n",
    "    \"\"\"\n",
    "    total_miles = round((ox.stats.street_length_total(osmnx_graph.to_undirected()) * 0.000621371192), 2)\n",
    "    total_segments = ox.stats.street_segment_count(osmnx_graph.to_undirected())\n",
    "    total_intersections = ox.stats.intersection_count(osmnx_graph)\n",
    "    \n",
    "    print(f\"Number of intersections: {total_intersections}\")\n",
    "    print(f\"Number of road segments: {total_segments}\")\n",
    "    print(f\"Total miles: {total_miles}\")"
   ]
  },
  {
   "cell_type": "markdown",
   "id": "0a93d075-be5c-4b47-8acb-00512cf44eae",
   "metadata": {},
   "source": [
    "### Chatsworth\n",
    "\n",
    "Working our way down the list, Chatsworth is number one."
   ]
  },
  {
   "cell_type": "code",
   "execution_count": null,
   "id": "273770c7-5193-48e5-860c-91cad7ea918b",
   "metadata": {},
   "outputs": [],
   "source": [
    "street_summary(g_chatsworth)"
   ]
  },
  {
   "cell_type": "code",
   "execution_count": null,
   "id": "aab1cb72-760f-4714-9f39-e60967e98454",
   "metadata": {},
   "outputs": [],
   "source": [
    "side_by_side_plots(chatsworth_plot, chatsworth_orientation_plot)"
   ]
  },
  {
   "cell_type": "markdown",
   "id": "4e516974-e664-4140-8a5b-244f650ec878",
   "metadata": {},
   "source": [
    "### Hollywood"
   ]
  },
  {
   "cell_type": "code",
   "execution_count": null,
   "id": "68115336-eb10-4a02-9d6f-4d188de5013c",
   "metadata": {},
   "outputs": [],
   "source": [
    "street_summary(g_hollywood)"
   ]
  },
  {
   "cell_type": "code",
   "execution_count": null,
   "id": "3ae3c3d4-2997-454e-9ca3-014b282eefe8",
   "metadata": {},
   "outputs": [],
   "source": [
    "side_by_side_plots(hollywood_plot, hollywood_orientation_plot)"
   ]
  },
  {
   "cell_type": "markdown",
   "id": "f97df29a-284e-48fc-b77c-3a3ba6d946e4",
   "metadata": {},
   "source": [
    "### Wilshire"
   ]
  },
  {
   "cell_type": "code",
   "execution_count": null,
   "id": "4faaf9bf-a162-450a-a741-22562d6e9ca9",
   "metadata": {},
   "outputs": [],
   "source": [
    "street_summary(g_wilshire)"
   ]
  },
  {
   "cell_type": "code",
   "execution_count": null,
   "id": "73a087c5-a92d-4109-8b74-22fc2f71e2c1",
   "metadata": {},
   "outputs": [],
   "source": [
    "side_by_side_plots(wilshire_plot, wilshire_orientation_plot)"
   ]
  },
  {
   "cell_type": "markdown",
   "id": "04e2b1b8-a115-42c0-bf8a-6432cf82447c",
   "metadata": {},
   "source": [
    "### Venice Beach"
   ]
  },
  {
   "cell_type": "code",
   "execution_count": null,
   "id": "8ac96927-3fff-4b36-a9b8-3c270c81de23",
   "metadata": {},
   "outputs": [],
   "source": [
    "street_summary(g_vb)"
   ]
  },
  {
   "cell_type": "code",
   "execution_count": null,
   "id": "a1fdc539-7c98-4f0c-a602-ad5f60320ce4",
   "metadata": {},
   "outputs": [],
   "source": [
    "side_by_side_plots(vb_plot, vb_orientation_plot)"
   ]
  },
  {
   "cell_type": "markdown",
   "id": "f44e795c-9318-4145-9f2a-83153d381e0c",
   "metadata": {},
   "source": [
    "## Wrapping up network analysis\n",
    "\n",
    "As you see this is a quick and dirty network analysis using osm and the osmnx package.  It is just scratching the tip of possiblities.\n",
    "\n",
    "**Note:** I did not compute intersection density, but I hope you could do it now?\n",
    "\n",
    "**Note:** I did not add any metrics of road network complexity to bids_gdf for upstream analysis.  You should have the tools for this step too!"
   ]
  },
  {
   "cell_type": "markdown",
   "id": "1fce31dc-2679-4dbc-b612-d4d4178cf015",
   "metadata": {},
   "source": [
    "# Conclusion\n",
    "\n",
    "I picked two possible measures of spatial structure, land use (commercial land) and road network complexity. For each of the measures I demonstrated how to construct them and how to add them to the dataframe.  If you were building an analytic product there are several important additions to consider:\n",
    "\n",
    "  1.  Demographic information - Use census or LA city aggregates\n",
    "  2.  Come back to the businesses dataset and use these spatial metrics to further analyze buisnessess by NAICS\n",
    "  \n",
    "I'm sure there are many other options to consider.\n",
    "\n",
    "Good luck!"
   ]
  },
  {
   "cell_type": "code",
   "execution_count": null,
   "id": "c244f23e-6b05-44b6-8509-c716081bdac1",
   "metadata": {},
   "outputs": [],
   "source": []
  }
 ],
 "metadata": {
  "kernelspec": {
   "display_name": "Python 3 (ipykernel)",
   "language": "python",
   "name": "python3"
  },
  "language_info": {
   "codemirror_mode": {
    "name": "ipython",
    "version": 3
   },
   "file_extension": ".py",
   "mimetype": "text/x-python",
   "name": "python",
   "nbconvert_exporter": "python",
   "pygments_lexer": "ipython3",
   "version": "3.9.10"
  }
 },
 "nbformat": 4,
 "nbformat_minor": 5
}
