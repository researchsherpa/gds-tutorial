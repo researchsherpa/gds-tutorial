{
 "cells": [
  {
   "cell_type": "markdown",
   "id": "01d660c3-0987-473d-8964-8b4ed48f04b0",
   "metadata": {},
   "source": [
    "# Data Fusion\n",
    "\n",
    "[Data fusion](https://en.wikipedia.org/wiki/Data_fusion#:~:text=Data%20fusion%20is%20the%20process,at%20which%20fusion%20takes%20place.) is `the process of integrating multiple data sources to produce more consistent, accurate, and useful information than that provided by any individual data source.`\n",
    "\n",
    "The next steps in the journey are:\n",
    "\n",
    "  1.  Combine polygons from LA City and State of California opportunity zones to find the opportunity zones in LA\n",
    "  2.  Use geography to link LA businessess and opportunity zones\n",
    "  3.  Add new data sets for Business Improvement Districts (BIDs) in LA\n",
    "  4.  Use spatial techniques to understand businesses and BIDs"
   ]
  },
  {
   "cell_type": "markdown",
   "id": "1224dc49-9864-4be9-969e-3805ead7a352",
   "metadata": {},
   "source": [
    "Before I start we need to set the env up.  I like to do (most) all my imports upfront.  I do it with a start.py in my profile_default.  This accomplishes the same thing.\n",
    "\n",
    "**Note:** This can be a bit slow because it initializes osmnx.  "
   ]
  },
  {
   "cell_type": "code",
   "execution_count": null,
   "id": "da228c1d-4f6f-4128-9f11-8d394239707a",
   "metadata": {},
   "outputs": [],
   "source": [
    "#imports\n",
    "%run start.py"
   ]
  },
  {
   "cell_type": "code",
   "execution_count": null,
   "id": "af1ca3ca-6031-41af-a5e3-15dde85e386e",
   "metadata": {},
   "outputs": [],
   "source": [
    "#from 01-data-wrangling.ipynb\n",
    "businesses_gdf = gpd.read_parquet('../data/businesses-gdf.parq')\n",
    "la_boundary_gdf = gpd.read_parquet('../data/la-boundary.parq')\n",
    "opportunity_zones_gdf = gpd.read_parquet('../data/opportunity-zones.parq')\n",
    "\n",
    "# new data\n",
    "city_council_gdf = gpd.read_file('../data/LA_City_Council_Districts_(Adopted_2021).zip')\n",
    "bid_gdf = gpd.read_file('../data/Business Improvement Districts.zip')"
   ]
  },
  {
   "cell_type": "markdown",
   "id": "68a6c5b3-f880-4827-b59a-fd268e402ade",
   "metadata": {
    "tags": []
   },
   "source": [
    "# LA Opportunity Zones\n",
    "\n",
    "From the previous notebook we have the polygons for all the opportunity zones in CA and the LA city boundary.  We can use geopandas spatial operations to get the opportunity zones in LA.\n",
    "\n",
    "If we look at the problem in maps, the map on the left shows the opportunity zones for the state.  The map on the right shows the boundary for LA.  There are a couple of approaches to combine them spatially.\n",
    "\n",
    "**Note:** Combining outputs, side-by-side is a common display idiom.  You should design a function to do this."
   ]
  },
  {
   "cell_type": "code",
   "execution_count": null,
   "id": "7167529a-00f0-486e-8059-1caeb8abb2ed",
   "metadata": {},
   "outputs": [],
   "source": [
    "zones_output = Output(layout={'border': '1px solid black',\n",
    "                            'width': '50%'})\n",
    "\n",
    "la_output = Output(layout={'border': '1px solid black',\n",
    "                            'width': '50%'})\n",
    "\n",
    "with zones_output:\n",
    "    display(opportunity_zones_gdf.explore())\n",
    "\n",
    "with la_output:\n",
    "    display(la_boundary_gdf.explore())\n",
    "\n",
    "HBox([zones_output, la_output])"
   ]
  },
  {
   "cell_type": "markdown",
   "id": "e691cf4a-0270-458d-ab71-efc561c2b958",
   "metadata": {},
   "source": [
    "We can use either the sjoin or overlay operators from geopandas.  There are a number of references online comparing the operations.\n",
    "\n",
    "I am going to use the overlay operator to create a new geometry."
   ]
  },
  {
   "cell_type": "code",
   "execution_count": null,
   "id": "f83632fe-ccaa-45fb-9480-d6dbe13f8c67",
   "metadata": {},
   "outputs": [],
   "source": [
    "la_opportunity_zones_gdf = la_boundary_gdf.overlay(opportunity_zones_gdf, how='intersection')"
   ]
  },
  {
   "cell_type": "markdown",
   "id": "d6fedc81-75bb-4761-8b59-d5fec505f059",
   "metadata": {},
   "source": [
    "Explore the map.  Notice the attributes for each opportunity zone polygon."
   ]
  },
  {
   "cell_type": "code",
   "execution_count": null,
   "id": "6d218400-3e67-4db0-91f4-a00d7db0bef4",
   "metadata": {},
   "outputs": [],
   "source": [
    "la_opportunity_zones_gdf.explore()"
   ]
  },
  {
   "cell_type": "markdown",
   "id": "55316e7d-4e3b-41dd-8a1c-81b531ea2b9c",
   "metadata": {},
   "source": [
    "You may want to try this code using the sjoin operator.\n",
    "```python\n",
    "join_poly = opportunity_zones_gdf.sjoin(la_boundary_gdf, how='inner', predicate='within')\n",
    "```\n",
    "\n",
    "If you do, compare the dataframes."
   ]
  },
  {
   "cell_type": "markdown",
   "id": "35193614-a990-48f4-9110-c1fb9a3f0dfa",
   "metadata": {},
   "source": [
    "# Businesses in Opportunity Zones\n",
    "\n",
    "At this point we've used the LA boundary polygon to \"select\" the opportunity zones in LA.\n",
    "\n",
    "The next step is to find the businesses in the opportunity zones.  We can use the sjoin operator to get the points (businesses) in polygon (opportunity zones)."
   ]
  },
  {
   "cell_type": "code",
   "execution_count": null,
   "id": "9fac98a3-167a-46a1-9a92-286f8aeff608",
   "metadata": {},
   "outputs": [],
   "source": [
    "biz_in_oz_gdf = businesses_gdf.sjoin(la_opportunity_zones_gdf, how='inner', predicate='within')"
   ]
  },
  {
   "cell_type": "markdown",
   "id": "38c89bd0-4d5c-450f-b0a9-bd12e7f8d6f8",
   "metadata": {},
   "source": [
    "Back-of-the-envelope to see what we have:"
   ]
  },
  {
   "cell_type": "code",
   "execution_count": null,
   "id": "b268ff8e-518f-407d-9953-eb417a8822df",
   "metadata": {},
   "outputs": [],
   "source": [
    "biz_oz_count = len(biz_in_oz_gdf)\n",
    "\n",
    "print(f\"Businesses within an OZ: {biz_oz_count} ({biz_oz_count / len(businesses_gdf):.2%})\")"
   ]
  },
  {
   "cell_type": "markdown",
   "id": "723765a4-cdd2-462d-91b2-c4ba57f9a243",
   "metadata": {},
   "source": [
    "I suppose this is reasonable?  At least it doesn't `not make sense`?\n",
    "\n",
    "Let's see how we can better understand the relationship of businessess and Opportunity Zones.\n",
    "\n",
    "There are several ways we might want to look at the data.  We'll start with the types of business (sector_desc from NAICS).\n",
    "\n",
    "**Note:** Remember I added this description + the sector code in parenthesis."
   ]
  },
  {
   "cell_type": "code",
   "execution_count": null,
   "id": "c23da7ef-b4d4-40c2-a0cc-4bef5f506e73",
   "metadata": {},
   "outputs": [],
   "source": [
    "biz_in_oz_gdf.sector_desc.value_counts()"
   ]
  },
  {
   "cell_type": "markdown",
   "id": "a6419bf7-6a7a-4055-8842-a49f8de7ec9e",
   "metadata": {},
   "source": [
    "Drilling down a bit, let's see OZ distribution for sector 62."
   ]
  },
  {
   "cell_type": "code",
   "execution_count": null,
   "id": "b9cef2c2-0d72-43a7-8fc6-d85dce667dc0",
   "metadata": {},
   "outputs": [],
   "source": [
    "biz_in_oz_gdf.query(f\"sector == '62'\").TRACTCE.value_counts()"
   ]
  },
  {
   "cell_type": "markdown",
   "id": "7ab53f8b-c902-46c7-a83d-9fa9f889cf74",
   "metadata": {},
   "source": [
    "So Census tract 128303 has 164 businesses of type `Health Cate and Social Assistance`.\n",
    "\n",
    "With this as a starting point we can look the distribution of all businesses in this OZ."
   ]
  },
  {
   "cell_type": "code",
   "execution_count": null,
   "id": "f3765753-ad62-4ff9-bb1e-b5c8a8aff1a2",
   "metadata": {},
   "outputs": [],
   "source": [
    "biz_in_oz_gdf.query(f\"TRACTCE == '128303'\").sector_desc.value_counts()"
   ]
  },
  {
   "cell_type": "code",
   "execution_count": null,
   "id": "bbcaa358-e89b-4184-9e5a-6a87639844de",
   "metadata": {},
   "outputs": [],
   "source": [
    "sum(_)"
   ]
  },
  {
   "cell_type": "markdown",
   "id": "3b7dab18-987b-4d4a-9f4f-c14ea72b544a",
   "metadata": {},
   "source": [
    "So this OZ has a total of 847 businesses from the LA city dataset.  I wonder if that is a `normal` number of businesses in an OZ?\n",
    "\n",
    "How can we start to figure that out?"
   ]
  },
  {
   "cell_type": "code",
   "execution_count": null,
   "id": "d9e5b015-4bc4-4a27-b62b-f02a6eff32ca",
   "metadata": {},
   "outputs": [],
   "source": [
    "biz_in_oz_gdf.groupby(['TRACTCE', 'sector_desc'])['sector'].count().head(20)"
   ]
  },
  {
   "cell_type": "markdown",
   "id": "46824a4a-7c4e-4632-abd8-af5f8174aa7b",
   "metadata": {},
   "source": [
    "Now I would like generate, and visualize, summary information for businesses in opportunity zones.\n",
    "\n",
    "I will use the biz_in_oz_gdf to generate the needed counts and then join (merge) that information back into the la_oppotunity_zones_gdf.\n",
    "\n",
    "We can use groupby to get the counts we need for each tract, then join with the opportunity zone gdf."
   ]
  },
  {
   "cell_type": "code",
   "execution_count": null,
   "id": "a95d4f25-69b8-475c-a7c3-9e5f6f5538f8",
   "metadata": {},
   "outputs": [],
   "source": [
    "count_df = biz_in_oz_gdf.groupby(['TRACTCE'])['sector'].count().to_frame().rename(columns={'sector': 'count'}).reset_index()\n",
    "la_opportunity_zones_gdf = la_opportunity_zones_gdf.merge(count_df, left_on='TRACTCE', right_on='TRACTCE') "
   ]
  },
  {
   "cell_type": "code",
   "execution_count": null,
   "id": "1559d4ed-65a6-49bf-a7d2-e9250c969361",
   "metadata": {},
   "outputs": [],
   "source": [
    "#la_opportunity_zones_gdf"
   ]
  },
  {
   "cell_type": "markdown",
   "id": "d90d129f-f325-4496-a4f8-52977c5aaede",
   "metadata": {},
   "source": [
    "I'm trying to show the techniques to derive quantitative information from the data.  You may want to [decide](https://www.pbcgis.com/normalize/) the utility of the map."
   ]
  },
  {
   "cell_type": "code",
   "execution_count": null,
   "id": "d5970114-a0df-4ab1-b577-b57d5b10b112",
   "metadata": {},
   "outputs": [],
   "source": [
    "la_opportunity_zones_gdf['count'].describe()"
   ]
  },
  {
   "cell_type": "code",
   "execution_count": null,
   "id": "a6b21002-e834-445e-9ed3-e22031dcd8a1",
   "metadata": {},
   "outputs": [],
   "source": [
    "la_opportunity_zones_gdf['count'].plot();"
   ]
  },
  {
   "cell_type": "markdown",
   "id": "0ef1ea9c-f84b-435e-95f2-e5c9b06d40a1",
   "metadata": {},
   "source": [
    "Looks like there's a couple of OZ's that skew the stats.\n",
    "\n",
    "We can also look at the density of businesses (biz / sq mile).\n",
    "\n",
    "Once we compute that value we can look at the distribution in a choropleth.  You shouldn't be surprised what it looks like!  Maybe we look at the OZ's that are not downtown?  I suspect we'll want to step up a level.  Maybe look at businesses in a collection of OZ's ...\n",
    "\n",
    "**Note:** See this [note](https://www.census.gov/quickfacts/fact/note/US/LND110210) for explanation of next step."
   ]
  },
  {
   "cell_type": "code",
   "execution_count": null,
   "id": "4493c51f-ef16-4d8d-9d8d-8d353ef9f5c4",
   "metadata": {},
   "outputs": [],
   "source": [
    "la_opportunity_zones_gdf['density'] = la_opportunity_zones_gdf.apply(lambda row: round((row['count'] / (row['ALAND'] / 2589988)), 2), axis=1)"
   ]
  },
  {
   "cell_type": "code",
   "execution_count": null,
   "id": "f124130d-51be-4942-b572-1fdc0219adf4",
   "metadata": {},
   "outputs": [],
   "source": [
    "#la_opportunity_zones_gdf"
   ]
  },
  {
   "cell_type": "code",
   "execution_count": null,
   "id": "2a536360-68cf-4ad8-add8-40a231547b64",
   "metadata": {},
   "outputs": [],
   "source": [
    "la_opportunity_zones_gdf['density'].plot()"
   ]
  },
  {
   "cell_type": "markdown",
   "id": "dec7e235-23a1-4bdd-8ea8-4b3bb003156c",
   "metadata": {},
   "source": [
    "**Note:** You really should build some code to do this!  It's getting quite repetitive.\n",
    "\n",
    "Let's look at the results on a choropleth map.  The explore method on the geodataframe supports this out of the box.  Since I added both count and density we can look at them side-by-side.  Once the choropleths are displayed, you can navigate around a bit.  The tooltip popup has the TRACTCE, so you can run more queries as we've done above."
   ]
  },
  {
   "cell_type": "code",
   "execution_count": null,
   "id": "d6000656-ac25-48e4-a21e-ff544308bf0d",
   "metadata": {
    "tags": []
   },
   "outputs": [],
   "source": [
    "count_output = Output(layout={'border': '1px solid black',\n",
    "                            'width': '50%'})\n",
    "\n",
    "density_output = Output(layout={'border': '1px solid black',\n",
    "                            'width': '50%'})\n",
    "\n",
    "with count_output:\n",
    "    display(la_opportunity_zones_gdf[['TRACTCE', 'count', 'geometry']].explore(column='count', cmap='YlOrRd', legend=True, tiles='cartodbpositron', style_kwds=dict(color=\"black\")))\n",
    "\n",
    "with density_output:\n",
    "    display(la_opportunity_zones_gdf[['TRACTCE', 'density', 'geometry']].explore(column='density', cmap='YlOrRd', legend=True, tiles='cartodbpositron', style_kwds=dict(color=\"black\")))\n",
    "\n",
    "#print('\\nMaps for request type: ' + request_type + '\\n\\n')\n",
    "HBox([count_output, density_output])"
   ]
  },
  {
   "cell_type": "markdown",
   "id": "5430c448-8425-4f8e-b499-2f34fcf5054c",
   "metadata": {},
   "source": [
    "Enough of this level of analysis.  We can now start down the path of looking at higher level aggregations."
   ]
  },
  {
   "cell_type": "markdown",
   "id": "d417e9ac-fad4-4f87-b52a-b88e00014a0a",
   "metadata": {
    "tags": []
   },
   "source": [
    "# Business Improvement Districts (BIDs)\n",
    "\n",
    "Next we'll combine [BID](https://en.wikipedia.org/wiki/Business_improvement_district)s, Opportunity Zones, and businesses.  We can use similar techniques to those described above.\n",
    "\n",
    "Steps in this section:\n",
    "\n",
    "  1. We created bid_gdf in the beginning of this nb.\n",
    "  2. I will look at the BIDs with the standard geopandas explore method.\n",
    "  3. Use the point-in-polygon idiom, as above, to associate businesses (by LOCATION) with the BID.\n",
    "  4. Combine BID and OZ polygons for new perspective.\n",
    "  4. Introduce ipyleaflet maps to explore.\n",
    "  \n",
    "**Note:** Because of the number of businesses and limitation of browser-based maps, we'll look at one BID to show the steps."
   ]
  },
  {
   "cell_type": "code",
   "execution_count": null,
   "id": "661481c7-392c-4dae-8a79-825e8e93fc34",
   "metadata": {},
   "outputs": [],
   "source": [
    "print(f\"There are {len(bid_gdf)} BIDs in the LA City dataset.\")"
   ]
  },
  {
   "cell_type": "code",
   "execution_count": null,
   "id": "0891aa9d-6460-416d-b0f0-5b46f209c096",
   "metadata": {},
   "outputs": [],
   "source": [
    "bid_gdf.explore()"
   ]
  },
  {
   "cell_type": "markdown",
   "id": "b0408196-a423-42f8-963a-b6c90b0a06a7",
   "metadata": {},
   "source": [
    "Since this is the first time we've used the BID dataset and we want to apply spatial operations we need to verify the crs."
   ]
  },
  {
   "cell_type": "code",
   "execution_count": null,
   "id": "ff92641a-febc-4ad0-8451-d610d31ae77e",
   "metadata": {},
   "outputs": [],
   "source": [
    "bid_gdf.crs"
   ]
  },
  {
   "cell_type": "markdown",
   "id": "5943a241-ab90-480a-b738-9a8c237fffa0",
   "metadata": {},
   "source": [
    "We need to change the crs."
   ]
  },
  {
   "cell_type": "code",
   "execution_count": null,
   "id": "7f70fe47-dbef-4779-b915-243b2b1d0097",
   "metadata": {},
   "outputs": [],
   "source": [
    "bid_gdf = bid_gdf.to_crs('EPSG:4326')"
   ]
  },
  {
   "cell_type": "markdown",
   "id": "04c2e741-8ffa-4b8f-a607-f25ee099c4c5",
   "metadata": {},
   "source": [
    "Now, with the same crs we can apply the sjoin operator to associate each business with a BID polygon."
   ]
  },
  {
   "cell_type": "code",
   "execution_count": null,
   "id": "96802e19-9c95-4ecb-991a-f51682796fa3",
   "metadata": {},
   "outputs": [],
   "source": [
    "biz_in_bid_gdf = businesses_gdf.sjoin(bid_gdf, how='inner', predicate='within')"
   ]
  },
  {
   "cell_type": "code",
   "execution_count": null,
   "id": "f2cd425a-91d8-4d76-85da-f44413f3f97f",
   "metadata": {},
   "outputs": [],
   "source": [
    "len(biz_in_bid_gdf)"
   ]
  },
  {
   "cell_type": "markdown",
   "id": "502246f9-13a1-4938-b6cc-452db8284a72",
   "metadata": {},
   "source": [
    "I think it's interesting this number is very similar to the number in OZs.  "
   ]
  },
  {
   "cell_type": "code",
   "execution_count": null,
   "id": "6ec48045-943d-4f00-862e-b4b8f58341f0",
   "metadata": {},
   "outputs": [],
   "source": [
    "biz_in_bid_gdf.columns"
   ]
  },
  {
   "cell_type": "code",
   "execution_count": null,
   "id": "181e6e21-443e-43c7-aa7b-f102cf27e55b",
   "metadata": {},
   "outputs": [],
   "source": [
    "biz_in_bid_gdf.prog_name.value_counts()"
   ]
  },
  {
   "cell_type": "markdown",
   "id": "a7757922-8c2f-43d9-86c3-67ef7a9ad6ba",
   "metadata": {
    "tags": []
   },
   "source": [
    "# Conclusion\n",
    "\n",
    "We started looking a ways to combine the datasets.  \n",
    "\n",
    "Three datasets have been curated for the rest of the analysis.  Specifically:\n",
    "\n",
    "  1. Use a spatial intersection to find the opportunity zones in LA\n",
    "  2. Use a point-in-polygon approach to link (sjoin) businesses and OZs\n",
    "  3. Demonstrate possible queries and statistics for businesses\n",
    "  4. Introduce Business Improvement Districts (BIDs)\n",
    "  5. Join BIDs and businesses for analysis\n",
    "  \n",
    "The next [notebook](3-combined-details.ipynb) will show how to combine and get some of the details."
   ]
  },
  {
   "cell_type": "code",
   "execution_count": null,
   "id": "183d4275-6a43-4517-be06-fd31895e0366",
   "metadata": {},
   "outputs": [],
   "source": []
  }
 ],
 "metadata": {
  "kernelspec": {
   "display_name": "Python 3 (ipykernel)",
   "language": "python",
   "name": "python3"
  },
  "language_info": {
   "codemirror_mode": {
    "name": "ipython",
    "version": 3
   },
   "file_extension": ".py",
   "mimetype": "text/x-python",
   "name": "python",
   "nbconvert_exporter": "python",
   "pygments_lexer": "ipython3",
   "version": "3.9.10"
  }
 },
 "nbformat": 4,
 "nbformat_minor": 5
}
